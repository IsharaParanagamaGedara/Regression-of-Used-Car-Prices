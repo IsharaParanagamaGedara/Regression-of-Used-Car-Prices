{
 "cells": [
  {
   "cell_type": "code",
   "execution_count": 1,
   "id": "7174acbb",
   "metadata": {
    "_cell_guid": "b1076dfc-b9ad-4769-8c92-a6c4dae69d19",
    "_uuid": "8f2839f25d086af736a60e9eeb907d3b93b6e0e5",
    "execution": {
     "iopub.execute_input": "2024-09-21T15:16:35.336767Z",
     "iopub.status.busy": "2024-09-21T15:16:35.336330Z",
     "iopub.status.idle": "2024-09-21T15:16:35.786783Z",
     "shell.execute_reply": "2024-09-21T15:16:35.785508Z"
    },
    "papermill": {
     "duration": 0.479765,
     "end_time": "2024-09-21T15:16:35.789524",
     "exception": false,
     "start_time": "2024-09-21T15:16:35.309759",
     "status": "completed"
    },
    "tags": []
   },
   "outputs": [
    {
     "name": "stdout",
     "output_type": "stream",
     "text": [
      "/kaggle/input/playground-series-s4e9/sample_submission.csv\n",
      "/kaggle/input/playground-series-s4e9/train.csv\n",
      "/kaggle/input/playground-series-s4e9/test.csv\n"
     ]
    }
   ],
   "source": [
    "# This Python 3 environment comes with many helpful analytics libraries installed\n",
    "# It is defined by the kaggle/python Docker image: https://github.com/kaggle/docker-python\n",
    "# For example, here's several helpful packages to load\n",
    "\n",
    "import numpy as np # linear algebra\n",
    "import pandas as pd # data processing, CSV file I/O (e.g. pd.read_csv)\n",
    "\n",
    "# Input data files are available in the read-only \"../input/\" directory\n",
    "# For example, running this (by clicking run or pressing Shift+Enter) will list all files under the input directory\n",
    "\n",
    "import os\n",
    "for dirname, _, filenames in os.walk('/kaggle/input'):\n",
    "    for filename in filenames:\n",
    "        print(os.path.join(dirname, filename))\n",
    "\n",
    "# You can write up to 20GB to the current directory (/kaggle/working/) that gets preserved as output when you create a version using \"Save & Run All\" \n",
    "# You can also write temporary files to /kaggle/temp/, but they won't be saved outside of the current session"
   ]
  },
  {
   "cell_type": "code",
   "execution_count": 2,
   "id": "fcc89f46",
   "metadata": {
    "execution": {
     "iopub.execute_input": "2024-09-21T15:16:35.836349Z",
     "iopub.status.busy": "2024-09-21T15:16:35.835768Z",
     "iopub.status.idle": "2024-09-21T15:16:39.843803Z",
     "shell.execute_reply": "2024-09-21T15:16:39.842356Z"
    },
    "papermill": {
     "duration": 4.034912,
     "end_time": "2024-09-21T15:16:39.846861",
     "exception": false,
     "start_time": "2024-09-21T15:16:35.811949",
     "status": "completed"
    },
    "tags": []
   },
   "outputs": [],
   "source": [
    "import pandas as pd\n",
    "import numpy as np\n",
    "import matplotlib.pyplot as plt\n",
    "import seaborn as sns\n",
    "import re\n",
    "\n",
    "from sklearn.preprocessing import LabelEncoder\n",
    "from sklearn.impute import SimpleImputer\n",
    "\n",
    "from sklearn.preprocessing import MinMaxScaler\n",
    "from sklearn.model_selection import train_test_split, GridSearchCV, cross_val_score\n",
    "from sklearn.linear_model import LinearRegression\n",
    "from sklearn.svm import SVR\n",
    "from sklearn.neighbors import KNeighborsRegressor\n",
    "from sklearn.tree import DecisionTreeRegressor\n",
    "from sklearn.ensemble import RandomForestRegressor\n",
    "from sklearn.metrics import mean_squared_error\n",
    "import xgboost as xgb\n",
    "import lightgbm as lgb\n",
    "from catboost import CatBoostRegressor\n",
    "\n",
    "import warnings \n",
    "warnings.filterwarnings('ignore')"
   ]
  },
  {
   "cell_type": "code",
   "execution_count": 3,
   "id": "100195af",
   "metadata": {
    "execution": {
     "iopub.execute_input": "2024-09-21T15:16:39.897007Z",
     "iopub.status.busy": "2024-09-21T15:16:39.896282Z",
     "iopub.status.idle": "2024-09-21T15:16:41.480653Z",
     "shell.execute_reply": "2024-09-21T15:16:41.479249Z"
    },
    "papermill": {
     "duration": 1.614065,
     "end_time": "2024-09-21T15:16:41.483744",
     "exception": false,
     "start_time": "2024-09-21T15:16:39.869679",
     "status": "completed"
    },
    "tags": []
   },
   "outputs": [],
   "source": [
    "train_data=pd.read_csv('/kaggle/input/playground-series-s4e9/train.csv')\n",
    "test_data=pd.read_csv('/kaggle/input/playground-series-s4e9/test.csv')\n",
    "df_sample_submission=pd.read_csv('/kaggle/input/playground-series-s4e9/sample_submission.csv')"
   ]
  },
  {
   "cell_type": "code",
   "execution_count": 4,
   "id": "4c83d09a",
   "metadata": {
    "execution": {
     "iopub.execute_input": "2024-09-21T15:16:41.531402Z",
     "iopub.status.busy": "2024-09-21T15:16:41.530953Z",
     "iopub.status.idle": "2024-09-21T15:16:41.537332Z",
     "shell.execute_reply": "2024-09-21T15:16:41.536114Z"
    },
    "papermill": {
     "duration": 0.033909,
     "end_time": "2024-09-21T15:16:41.540342",
     "exception": false,
     "start_time": "2024-09-21T15:16:41.506433",
     "status": "completed"
    },
    "tags": []
   },
   "outputs": [
    {
     "name": "stdout",
     "output_type": "stream",
     "text": [
      "Train shape: (188533, 13)\n",
      "Test shape: (125690, 12)\n",
      "Sample Submission shape: (125690, 2)\n"
     ]
    }
   ],
   "source": [
    "print(\"Train shape:\", train_data.shape)\n",
    "print(\"Test shape:\", test_data.shape)\n",
    "print(\"Sample Submission shape:\", df_sample_submission.shape)"
   ]
  },
  {
   "cell_type": "code",
   "execution_count": 5,
   "id": "eabe7839",
   "metadata": {
    "execution": {
     "iopub.execute_input": "2024-09-21T15:16:41.587486Z",
     "iopub.status.busy": "2024-09-21T15:16:41.586456Z",
     "iopub.status.idle": "2024-09-21T15:16:41.615932Z",
     "shell.execute_reply": "2024-09-21T15:16:41.614402Z"
    },
    "papermill": {
     "duration": 0.056389,
     "end_time": "2024-09-21T15:16:41.619072",
     "exception": false,
     "start_time": "2024-09-21T15:16:41.562683",
     "status": "completed"
    },
    "tags": []
   },
   "outputs": [
    {
     "data": {
      "text/html": [
       "<div>\n",
       "<style scoped>\n",
       "    .dataframe tbody tr th:only-of-type {\n",
       "        vertical-align: middle;\n",
       "    }\n",
       "\n",
       "    .dataframe tbody tr th {\n",
       "        vertical-align: top;\n",
       "    }\n",
       "\n",
       "    .dataframe thead th {\n",
       "        text-align: right;\n",
       "    }\n",
       "</style>\n",
       "<table border=\"1\" class=\"dataframe\">\n",
       "  <thead>\n",
       "    <tr style=\"text-align: right;\">\n",
       "      <th></th>\n",
       "      <th>id</th>\n",
       "      <th>brand</th>\n",
       "      <th>model</th>\n",
       "      <th>model_year</th>\n",
       "      <th>milage</th>\n",
       "      <th>fuel_type</th>\n",
       "      <th>engine</th>\n",
       "      <th>transmission</th>\n",
       "      <th>ext_col</th>\n",
       "      <th>int_col</th>\n",
       "      <th>accident</th>\n",
       "      <th>clean_title</th>\n",
       "      <th>price</th>\n",
       "    </tr>\n",
       "  </thead>\n",
       "  <tbody>\n",
       "    <tr>\n",
       "      <th>0</th>\n",
       "      <td>0</td>\n",
       "      <td>MINI</td>\n",
       "      <td>Cooper S Base</td>\n",
       "      <td>2007</td>\n",
       "      <td>213000</td>\n",
       "      <td>Gasoline</td>\n",
       "      <td>172.0HP 1.6L 4 Cylinder Engine Gasoline Fuel</td>\n",
       "      <td>A/T</td>\n",
       "      <td>Yellow</td>\n",
       "      <td>Gray</td>\n",
       "      <td>None reported</td>\n",
       "      <td>Yes</td>\n",
       "      <td>4200</td>\n",
       "    </tr>\n",
       "    <tr>\n",
       "      <th>1</th>\n",
       "      <td>1</td>\n",
       "      <td>Lincoln</td>\n",
       "      <td>LS V8</td>\n",
       "      <td>2002</td>\n",
       "      <td>143250</td>\n",
       "      <td>Gasoline</td>\n",
       "      <td>252.0HP 3.9L 8 Cylinder Engine Gasoline Fuel</td>\n",
       "      <td>A/T</td>\n",
       "      <td>Silver</td>\n",
       "      <td>Beige</td>\n",
       "      <td>At least 1 accident or damage reported</td>\n",
       "      <td>Yes</td>\n",
       "      <td>4999</td>\n",
       "    </tr>\n",
       "    <tr>\n",
       "      <th>2</th>\n",
       "      <td>2</td>\n",
       "      <td>Chevrolet</td>\n",
       "      <td>Silverado 2500 LT</td>\n",
       "      <td>2002</td>\n",
       "      <td>136731</td>\n",
       "      <td>E85 Flex Fuel</td>\n",
       "      <td>320.0HP 5.3L 8 Cylinder Engine Flex Fuel Capab...</td>\n",
       "      <td>A/T</td>\n",
       "      <td>Blue</td>\n",
       "      <td>Gray</td>\n",
       "      <td>None reported</td>\n",
       "      <td>Yes</td>\n",
       "      <td>13900</td>\n",
       "    </tr>\n",
       "    <tr>\n",
       "      <th>3</th>\n",
       "      <td>3</td>\n",
       "      <td>Genesis</td>\n",
       "      <td>G90 5.0 Ultimate</td>\n",
       "      <td>2017</td>\n",
       "      <td>19500</td>\n",
       "      <td>Gasoline</td>\n",
       "      <td>420.0HP 5.0L 8 Cylinder Engine Gasoline Fuel</td>\n",
       "      <td>Transmission w/Dual Shift Mode</td>\n",
       "      <td>Black</td>\n",
       "      <td>Black</td>\n",
       "      <td>None reported</td>\n",
       "      <td>Yes</td>\n",
       "      <td>45000</td>\n",
       "    </tr>\n",
       "    <tr>\n",
       "      <th>4</th>\n",
       "      <td>4</td>\n",
       "      <td>Mercedes-Benz</td>\n",
       "      <td>Metris Base</td>\n",
       "      <td>2021</td>\n",
       "      <td>7388</td>\n",
       "      <td>Gasoline</td>\n",
       "      <td>208.0HP 2.0L 4 Cylinder Engine Gasoline Fuel</td>\n",
       "      <td>7-Speed A/T</td>\n",
       "      <td>Black</td>\n",
       "      <td>Beige</td>\n",
       "      <td>None reported</td>\n",
       "      <td>Yes</td>\n",
       "      <td>97500</td>\n",
       "    </tr>\n",
       "  </tbody>\n",
       "</table>\n",
       "</div>"
      ],
      "text/plain": [
       "   id          brand              model  model_year  milage      fuel_type  \\\n",
       "0   0           MINI      Cooper S Base        2007  213000       Gasoline   \n",
       "1   1        Lincoln              LS V8        2002  143250       Gasoline   \n",
       "2   2      Chevrolet  Silverado 2500 LT        2002  136731  E85 Flex Fuel   \n",
       "3   3        Genesis   G90 5.0 Ultimate        2017   19500       Gasoline   \n",
       "4   4  Mercedes-Benz        Metris Base        2021    7388       Gasoline   \n",
       "\n",
       "                                              engine  \\\n",
       "0       172.0HP 1.6L 4 Cylinder Engine Gasoline Fuel   \n",
       "1       252.0HP 3.9L 8 Cylinder Engine Gasoline Fuel   \n",
       "2  320.0HP 5.3L 8 Cylinder Engine Flex Fuel Capab...   \n",
       "3       420.0HP 5.0L 8 Cylinder Engine Gasoline Fuel   \n",
       "4       208.0HP 2.0L 4 Cylinder Engine Gasoline Fuel   \n",
       "\n",
       "                     transmission ext_col int_col  \\\n",
       "0                             A/T  Yellow    Gray   \n",
       "1                             A/T  Silver   Beige   \n",
       "2                             A/T    Blue    Gray   \n",
       "3  Transmission w/Dual Shift Mode   Black   Black   \n",
       "4                     7-Speed A/T   Black   Beige   \n",
       "\n",
       "                                 accident clean_title  price  \n",
       "0                           None reported         Yes   4200  \n",
       "1  At least 1 accident or damage reported         Yes   4999  \n",
       "2                           None reported         Yes  13900  \n",
       "3                           None reported         Yes  45000  \n",
       "4                           None reported         Yes  97500  "
      ]
     },
     "execution_count": 5,
     "metadata": {},
     "output_type": "execute_result"
    }
   ],
   "source": [
    "train_data.head()"
   ]
  },
  {
   "cell_type": "code",
   "execution_count": 6,
   "id": "c22b81f0",
   "metadata": {
    "execution": {
     "iopub.execute_input": "2024-09-21T15:16:41.667389Z",
     "iopub.status.busy": "2024-09-21T15:16:41.666910Z",
     "iopub.status.idle": "2024-09-21T15:16:41.686862Z",
     "shell.execute_reply": "2024-09-21T15:16:41.685537Z"
    },
    "papermill": {
     "duration": 0.04729,
     "end_time": "2024-09-21T15:16:41.690082",
     "exception": false,
     "start_time": "2024-09-21T15:16:41.642792",
     "status": "completed"
    },
    "tags": []
   },
   "outputs": [
    {
     "data": {
      "text/html": [
       "<div>\n",
       "<style scoped>\n",
       "    .dataframe tbody tr th:only-of-type {\n",
       "        vertical-align: middle;\n",
       "    }\n",
       "\n",
       "    .dataframe tbody tr th {\n",
       "        vertical-align: top;\n",
       "    }\n",
       "\n",
       "    .dataframe thead th {\n",
       "        text-align: right;\n",
       "    }\n",
       "</style>\n",
       "<table border=\"1\" class=\"dataframe\">\n",
       "  <thead>\n",
       "    <tr style=\"text-align: right;\">\n",
       "      <th></th>\n",
       "      <th>id</th>\n",
       "      <th>brand</th>\n",
       "      <th>model</th>\n",
       "      <th>model_year</th>\n",
       "      <th>milage</th>\n",
       "      <th>fuel_type</th>\n",
       "      <th>engine</th>\n",
       "      <th>transmission</th>\n",
       "      <th>ext_col</th>\n",
       "      <th>int_col</th>\n",
       "      <th>accident</th>\n",
       "      <th>clean_title</th>\n",
       "    </tr>\n",
       "  </thead>\n",
       "  <tbody>\n",
       "    <tr>\n",
       "      <th>0</th>\n",
       "      <td>188533</td>\n",
       "      <td>Land</td>\n",
       "      <td>Rover LR2 Base</td>\n",
       "      <td>2015</td>\n",
       "      <td>98000</td>\n",
       "      <td>Gasoline</td>\n",
       "      <td>240.0HP 2.0L 4 Cylinder Engine Gasoline Fuel</td>\n",
       "      <td>6-Speed A/T</td>\n",
       "      <td>White</td>\n",
       "      <td>Beige</td>\n",
       "      <td>None reported</td>\n",
       "      <td>Yes</td>\n",
       "    </tr>\n",
       "    <tr>\n",
       "      <th>1</th>\n",
       "      <td>188534</td>\n",
       "      <td>Land</td>\n",
       "      <td>Rover Defender SE</td>\n",
       "      <td>2020</td>\n",
       "      <td>9142</td>\n",
       "      <td>Hybrid</td>\n",
       "      <td>395.0HP 3.0L Straight 6 Cylinder Engine Gasoli...</td>\n",
       "      <td>8-Speed A/T</td>\n",
       "      <td>Silver</td>\n",
       "      <td>Black</td>\n",
       "      <td>None reported</td>\n",
       "      <td>Yes</td>\n",
       "    </tr>\n",
       "    <tr>\n",
       "      <th>2</th>\n",
       "      <td>188535</td>\n",
       "      <td>Ford</td>\n",
       "      <td>Expedition Limited</td>\n",
       "      <td>2022</td>\n",
       "      <td>28121</td>\n",
       "      <td>Gasoline</td>\n",
       "      <td>3.5L V6 24V PDI DOHC Twin Turbo</td>\n",
       "      <td>10-Speed Automatic</td>\n",
       "      <td>White</td>\n",
       "      <td>Ebony</td>\n",
       "      <td>None reported</td>\n",
       "      <td>NaN</td>\n",
       "    </tr>\n",
       "    <tr>\n",
       "      <th>3</th>\n",
       "      <td>188536</td>\n",
       "      <td>Audi</td>\n",
       "      <td>A6 2.0T Sport</td>\n",
       "      <td>2016</td>\n",
       "      <td>61258</td>\n",
       "      <td>Gasoline</td>\n",
       "      <td>2.0 Liter TFSI</td>\n",
       "      <td>Automatic</td>\n",
       "      <td>Silician Yellow</td>\n",
       "      <td>Black</td>\n",
       "      <td>None reported</td>\n",
       "      <td>NaN</td>\n",
       "    </tr>\n",
       "    <tr>\n",
       "      <th>4</th>\n",
       "      <td>188537</td>\n",
       "      <td>Audi</td>\n",
       "      <td>A6 2.0T Premium Plus</td>\n",
       "      <td>2018</td>\n",
       "      <td>59000</td>\n",
       "      <td>Gasoline</td>\n",
       "      <td>252.0HP 2.0L 4 Cylinder Engine Gasoline Fuel</td>\n",
       "      <td>A/T</td>\n",
       "      <td>Gray</td>\n",
       "      <td>Black</td>\n",
       "      <td>None reported</td>\n",
       "      <td>Yes</td>\n",
       "    </tr>\n",
       "  </tbody>\n",
       "</table>\n",
       "</div>"
      ],
      "text/plain": [
       "       id brand                 model  model_year  milage fuel_type  \\\n",
       "0  188533  Land        Rover LR2 Base        2015   98000  Gasoline   \n",
       "1  188534  Land     Rover Defender SE        2020    9142    Hybrid   \n",
       "2  188535  Ford    Expedition Limited        2022   28121  Gasoline   \n",
       "3  188536  Audi         A6 2.0T Sport        2016   61258  Gasoline   \n",
       "4  188537  Audi  A6 2.0T Premium Plus        2018   59000  Gasoline   \n",
       "\n",
       "                                              engine        transmission  \\\n",
       "0       240.0HP 2.0L 4 Cylinder Engine Gasoline Fuel         6-Speed A/T   \n",
       "1  395.0HP 3.0L Straight 6 Cylinder Engine Gasoli...         8-Speed A/T   \n",
       "2                    3.5L V6 24V PDI DOHC Twin Turbo  10-Speed Automatic   \n",
       "3                                     2.0 Liter TFSI           Automatic   \n",
       "4       252.0HP 2.0L 4 Cylinder Engine Gasoline Fuel                 A/T   \n",
       "\n",
       "           ext_col int_col       accident clean_title  \n",
       "0            White   Beige  None reported         Yes  \n",
       "1           Silver   Black  None reported         Yes  \n",
       "2            White   Ebony  None reported         NaN  \n",
       "3  Silician Yellow   Black  None reported         NaN  \n",
       "4             Gray   Black  None reported         Yes  "
      ]
     },
     "execution_count": 6,
     "metadata": {},
     "output_type": "execute_result"
    }
   ],
   "source": [
    "test_data.head()"
   ]
  },
  {
   "cell_type": "markdown",
   "id": "bcdfefe6",
   "metadata": {
    "papermill": {
     "duration": 0.024858,
     "end_time": "2024-09-21T15:16:41.738711",
     "exception": false,
     "start_time": "2024-09-21T15:16:41.713853",
     "status": "completed"
    },
    "tags": []
   },
   "source": [
    "# Exploratory Data Analysis"
   ]
  },
  {
   "cell_type": "code",
   "execution_count": 7,
   "id": "d9bd6afe",
   "metadata": {
    "execution": {
     "iopub.execute_input": "2024-09-21T15:16:41.788634Z",
     "iopub.status.busy": "2024-09-21T15:16:41.787400Z",
     "iopub.status.idle": "2024-09-21T15:16:41.995357Z",
     "shell.execute_reply": "2024-09-21T15:16:41.993922Z"
    },
    "papermill": {
     "duration": 0.235253,
     "end_time": "2024-09-21T15:16:41.998063",
     "exception": false,
     "start_time": "2024-09-21T15:16:41.762810",
     "status": "completed"
    },
    "tags": []
   },
   "outputs": [
    {
     "name": "stdout",
     "output_type": "stream",
     "text": [
      "<class 'pandas.core.frame.DataFrame'>\n",
      "RangeIndex: 188533 entries, 0 to 188532\n",
      "Data columns (total 13 columns):\n",
      " #   Column        Non-Null Count   Dtype \n",
      "---  ------        --------------   ----- \n",
      " 0   id            188533 non-null  int64 \n",
      " 1   brand         188533 non-null  object\n",
      " 2   model         188533 non-null  object\n",
      " 3   model_year    188533 non-null  int64 \n",
      " 4   milage        188533 non-null  int64 \n",
      " 5   fuel_type     183450 non-null  object\n",
      " 6   engine        188533 non-null  object\n",
      " 7   transmission  188533 non-null  object\n",
      " 8   ext_col       188533 non-null  object\n",
      " 9   int_col       188533 non-null  object\n",
      " 10  accident      186081 non-null  object\n",
      " 11  clean_title   167114 non-null  object\n",
      " 12  price         188533 non-null  int64 \n",
      "dtypes: int64(4), object(9)\n",
      "memory usage: 18.7+ MB\n",
      "None\n"
     ]
    }
   ],
   "source": [
    "print(train_data.info())"
   ]
  },
  {
   "cell_type": "code",
   "execution_count": 8,
   "id": "b0a7b3bf",
   "metadata": {
    "execution": {
     "iopub.execute_input": "2024-09-21T15:16:42.047634Z",
     "iopub.status.busy": "2024-09-21T15:16:42.047169Z",
     "iopub.status.idle": "2024-09-21T15:16:42.237327Z",
     "shell.execute_reply": "2024-09-21T15:16:42.235756Z"
    },
    "papermill": {
     "duration": 0.217963,
     "end_time": "2024-09-21T15:16:42.240119",
     "exception": false,
     "start_time": "2024-09-21T15:16:42.022156",
     "status": "completed"
    },
    "tags": []
   },
   "outputs": [
    {
     "name": "stdout",
     "output_type": "stream",
     "text": [
      "id                  0\n",
      "brand               0\n",
      "model               0\n",
      "model_year          0\n",
      "milage              0\n",
      "fuel_type        5083\n",
      "engine              0\n",
      "transmission        0\n",
      "ext_col             0\n",
      "int_col             0\n",
      "accident         2452\n",
      "clean_title     21419\n",
      "price               0\n",
      "dtype: int64\n"
     ]
    }
   ],
   "source": [
    "print(train_data.isnull().sum())"
   ]
  },
  {
   "cell_type": "code",
   "execution_count": 9,
   "id": "5b4fe384",
   "metadata": {
    "execution": {
     "iopub.execute_input": "2024-09-21T15:16:42.291958Z",
     "iopub.status.busy": "2024-09-21T15:16:42.291470Z",
     "iopub.status.idle": "2024-09-21T15:16:42.751822Z",
     "shell.execute_reply": "2024-09-21T15:16:42.750467Z"
    },
    "papermill": {
     "duration": 0.489734,
     "end_time": "2024-09-21T15:16:42.755119",
     "exception": false,
     "start_time": "2024-09-21T15:16:42.265385",
     "status": "completed"
    },
    "tags": []
   },
   "outputs": [
    {
     "name": "stdout",
     "output_type": "stream",
     "text": [
      "Missing values: 28954\n",
      "Duplicated values: 0\n"
     ]
    }
   ],
   "source": [
    "print(f'Missing values: {train_data.isna().sum().sum()}')\n",
    "print(f'Duplicated values: {train_data.duplicated().sum()}')"
   ]
  },
  {
   "cell_type": "code",
   "execution_count": 10,
   "id": "d6fd7da5",
   "metadata": {
    "execution": {
     "iopub.execute_input": "2024-09-21T15:16:42.810367Z",
     "iopub.status.busy": "2024-09-21T15:16:42.809893Z",
     "iopub.status.idle": "2024-09-21T15:16:42.947345Z",
     "shell.execute_reply": "2024-09-21T15:16:42.946101Z"
    },
    "papermill": {
     "duration": 0.16848,
     "end_time": "2024-09-21T15:16:42.950322",
     "exception": false,
     "start_time": "2024-09-21T15:16:42.781842",
     "status": "completed"
    },
    "tags": []
   },
   "outputs": [
    {
     "name": "stdout",
     "output_type": "stream",
     "text": [
      "id                  0\n",
      "brand               0\n",
      "model               0\n",
      "model_year          0\n",
      "milage              0\n",
      "fuel_type        3383\n",
      "engine              0\n",
      "transmission        0\n",
      "ext_col             0\n",
      "int_col             0\n",
      "accident         1632\n",
      "clean_title     14239\n",
      "dtype: int64\n"
     ]
    }
   ],
   "source": [
    "print(test_data.isnull().sum())"
   ]
  },
  {
   "cell_type": "code",
   "execution_count": 11,
   "id": "4abf67ef",
   "metadata": {
    "execution": {
     "iopub.execute_input": "2024-09-21T15:16:42.999853Z",
     "iopub.status.busy": "2024-09-21T15:16:42.999046Z",
     "iopub.status.idle": "2024-09-21T15:16:43.300703Z",
     "shell.execute_reply": "2024-09-21T15:16:43.299318Z"
    },
    "papermill": {
     "duration": 0.32934,
     "end_time": "2024-09-21T15:16:43.303601",
     "exception": false,
     "start_time": "2024-09-21T15:16:42.974261",
     "status": "completed"
    },
    "tags": []
   },
   "outputs": [
    {
     "name": "stdout",
     "output_type": "stream",
     "text": [
      "Missing values: 19254\n",
      "Duplicated values: 0\n"
     ]
    }
   ],
   "source": [
    "print(f'Missing values: {test_data.isna().sum().sum()}')\n",
    "print(f'Duplicated values: {test_data.duplicated().sum()}')"
   ]
  },
  {
   "cell_type": "code",
   "execution_count": 12,
   "id": "94816a73",
   "metadata": {
    "execution": {
     "iopub.execute_input": "2024-09-21T15:16:43.353776Z",
     "iopub.status.busy": "2024-09-21T15:16:43.353310Z",
     "iopub.status.idle": "2024-09-21T15:16:43.472850Z",
     "shell.execute_reply": "2024-09-21T15:16:43.471737Z"
    },
    "papermill": {
     "duration": 0.147432,
     "end_time": "2024-09-21T15:16:43.475757",
     "exception": false,
     "start_time": "2024-09-21T15:16:43.328325",
     "status": "completed"
    },
    "tags": []
   },
   "outputs": [],
   "source": [
    "train_data['fuel_type'].fillna('Electricity', inplace=True)\n",
    "train_data['clean_title'].fillna('No', inplace=True)\n",
    "train_data['accident'].fillna('None reported', inplace=True)\n",
    "\n",
    "test_data['fuel_type'].fillna('Electricity', inplace=True)\n",
    "test_data['clean_title'].fillna('No', inplace=True)\n",
    "test_data['accident'].fillna('None reported', inplace=True)"
   ]
  },
  {
   "cell_type": "code",
   "execution_count": 13,
   "id": "44f27fef",
   "metadata": {
    "execution": {
     "iopub.execute_input": "2024-09-21T15:16:43.525216Z",
     "iopub.status.busy": "2024-09-21T15:16:43.524413Z",
     "iopub.status.idle": "2024-09-21T15:16:43.832510Z",
     "shell.execute_reply": "2024-09-21T15:16:43.831242Z"
    },
    "papermill": {
     "duration": 0.335564,
     "end_time": "2024-09-21T15:16:43.835071",
     "exception": false,
     "start_time": "2024-09-21T15:16:43.499507",
     "status": "completed"
    },
    "tags": []
   },
   "outputs": [
    {
     "name": "stdout",
     "output_type": "stream",
     "text": [
      "Missing values in train_data: 0\n",
      "Missing values in test_data 0\n"
     ]
    }
   ],
   "source": [
    "print(f'Missing values in train_data: {train_data.isna().sum().sum()}')\n",
    "print(f'Missing values in test_data {test_data.isna().sum().sum()}')"
   ]
  },
  {
   "cell_type": "code",
   "execution_count": 14,
   "id": "d0df236a",
   "metadata": {
    "execution": {
     "iopub.execute_input": "2024-09-21T15:16:43.884789Z",
     "iopub.status.busy": "2024-09-21T15:16:43.883788Z",
     "iopub.status.idle": "2024-09-21T15:16:43.892352Z",
     "shell.execute_reply": "2024-09-21T15:16:43.891038Z"
    },
    "papermill": {
     "duration": 0.036341,
     "end_time": "2024-09-21T15:16:43.894896",
     "exception": false,
     "start_time": "2024-09-21T15:16:43.858555",
     "status": "completed"
    },
    "tags": []
   },
   "outputs": [
    {
     "name": "stdout",
     "output_type": "stream",
     "text": [
      "Index(['id', 'model_year', 'milage', 'price'], dtype='object')\n"
     ]
    }
   ],
   "source": [
    "num_cols = train_data.select_dtypes(include=['int64', 'float64']).columns\n",
    "print(num_cols)"
   ]
  },
  {
   "cell_type": "code",
   "execution_count": 15,
   "id": "5fb19eb6",
   "metadata": {
    "execution": {
     "iopub.execute_input": "2024-09-21T15:16:43.948607Z",
     "iopub.status.busy": "2024-09-21T15:16:43.947563Z",
     "iopub.status.idle": "2024-09-21T15:16:44.003097Z",
     "shell.execute_reply": "2024-09-21T15:16:44.001936Z"
    },
    "papermill": {
     "duration": 0.083619,
     "end_time": "2024-09-21T15:16:44.005746",
     "exception": false,
     "start_time": "2024-09-21T15:16:43.922127",
     "status": "completed"
    },
    "tags": []
   },
   "outputs": [
    {
     "data": {
      "text/html": [
       "<div>\n",
       "<style scoped>\n",
       "    .dataframe tbody tr th:only-of-type {\n",
       "        vertical-align: middle;\n",
       "    }\n",
       "\n",
       "    .dataframe tbody tr th {\n",
       "        vertical-align: top;\n",
       "    }\n",
       "\n",
       "    .dataframe thead th {\n",
       "        text-align: right;\n",
       "    }\n",
       "</style>\n",
       "<table border=\"1\" class=\"dataframe\">\n",
       "  <thead>\n",
       "    <tr style=\"text-align: right;\">\n",
       "      <th></th>\n",
       "      <th>count</th>\n",
       "      <th>mean</th>\n",
       "      <th>std</th>\n",
       "      <th>min</th>\n",
       "      <th>25%</th>\n",
       "      <th>50%</th>\n",
       "      <th>75%</th>\n",
       "      <th>max</th>\n",
       "    </tr>\n",
       "  </thead>\n",
       "  <tbody>\n",
       "    <tr>\n",
       "      <th>id</th>\n",
       "      <td>188533.0</td>\n",
       "      <td>94266.000000</td>\n",
       "      <td>54424.933488</td>\n",
       "      <td>0.0</td>\n",
       "      <td>47133.0</td>\n",
       "      <td>94266.0</td>\n",
       "      <td>141399.0</td>\n",
       "      <td>188532.0</td>\n",
       "    </tr>\n",
       "    <tr>\n",
       "      <th>model_year</th>\n",
       "      <td>188533.0</td>\n",
       "      <td>2015.829998</td>\n",
       "      <td>5.660967</td>\n",
       "      <td>1974.0</td>\n",
       "      <td>2013.0</td>\n",
       "      <td>2017.0</td>\n",
       "      <td>2020.0</td>\n",
       "      <td>2024.0</td>\n",
       "    </tr>\n",
       "    <tr>\n",
       "      <th>milage</th>\n",
       "      <td>188533.0</td>\n",
       "      <td>65705.295174</td>\n",
       "      <td>49798.158076</td>\n",
       "      <td>100.0</td>\n",
       "      <td>24115.0</td>\n",
       "      <td>57785.0</td>\n",
       "      <td>95400.0</td>\n",
       "      <td>405000.0</td>\n",
       "    </tr>\n",
       "    <tr>\n",
       "      <th>price</th>\n",
       "      <td>188533.0</td>\n",
       "      <td>43878.016178</td>\n",
       "      <td>78819.522254</td>\n",
       "      <td>2000.0</td>\n",
       "      <td>17000.0</td>\n",
       "      <td>30825.0</td>\n",
       "      <td>49900.0</td>\n",
       "      <td>2954083.0</td>\n",
       "    </tr>\n",
       "  </tbody>\n",
       "</table>\n",
       "</div>"
      ],
      "text/plain": [
       "               count          mean           std     min      25%      50%  \\\n",
       "id          188533.0  94266.000000  54424.933488     0.0  47133.0  94266.0   \n",
       "model_year  188533.0   2015.829998      5.660967  1974.0   2013.0   2017.0   \n",
       "milage      188533.0  65705.295174  49798.158076   100.0  24115.0  57785.0   \n",
       "price       188533.0  43878.016178  78819.522254  2000.0  17000.0  30825.0   \n",
       "\n",
       "                 75%        max  \n",
       "id          141399.0   188532.0  \n",
       "model_year    2020.0     2024.0  \n",
       "milage       95400.0   405000.0  \n",
       "price        49900.0  2954083.0  "
      ]
     },
     "execution_count": 15,
     "metadata": {},
     "output_type": "execute_result"
    }
   ],
   "source": [
    "train_data.describe().T"
   ]
  },
  {
   "cell_type": "code",
   "execution_count": 16,
   "id": "d663098f",
   "metadata": {
    "execution": {
     "iopub.execute_input": "2024-09-21T15:16:44.056857Z",
     "iopub.status.busy": "2024-09-21T15:16:44.055746Z",
     "iopub.status.idle": "2024-09-21T15:16:44.080787Z",
     "shell.execute_reply": "2024-09-21T15:16:44.079596Z"
    },
    "papermill": {
     "duration": 0.053539,
     "end_time": "2024-09-21T15:16:44.083543",
     "exception": false,
     "start_time": "2024-09-21T15:16:44.030004",
     "status": "completed"
    },
    "tags": []
   },
   "outputs": [
    {
     "name": "stdout",
     "output_type": "stream",
     "text": [
      "Index(['brand', 'model', 'fuel_type', 'engine', 'transmission', 'ext_col',\n",
      "       'int_col', 'accident', 'clean_title'],\n",
      "      dtype='object')\n"
     ]
    }
   ],
   "source": [
    "cat_cols = train_data.select_dtypes(include=['object']).columns\n",
    "print(cat_cols)"
   ]
  },
  {
   "cell_type": "code",
   "execution_count": 17,
   "id": "41828ae3",
   "metadata": {
    "execution": {
     "iopub.execute_input": "2024-09-21T15:16:44.135596Z",
     "iopub.status.busy": "2024-09-21T15:16:44.135140Z",
     "iopub.status.idle": "2024-09-21T15:16:44.331347Z",
     "shell.execute_reply": "2024-09-21T15:16:44.330086Z"
    },
    "papermill": {
     "duration": 0.225434,
     "end_time": "2024-09-21T15:16:44.334032",
     "exception": false,
     "start_time": "2024-09-21T15:16:44.108598",
     "status": "completed"
    },
    "tags": []
   },
   "outputs": [
    {
     "data": {
      "text/plain": [
       "brand             57\n",
       "model           1897\n",
       "fuel_type          8\n",
       "engine          1117\n",
       "transmission      52\n",
       "ext_col          319\n",
       "int_col          156\n",
       "accident           2\n",
       "clean_title        2\n",
       "dtype: int64"
      ]
     },
     "execution_count": 17,
     "metadata": {},
     "output_type": "execute_result"
    }
   ],
   "source": [
    "train_data[cat_cols].nunique()"
   ]
  },
  {
   "cell_type": "markdown",
   "id": "68607aaa",
   "metadata": {
    "papermill": {
     "duration": 0.025098,
     "end_time": "2024-09-21T15:16:44.383756",
     "exception": false,
     "start_time": "2024-09-21T15:16:44.358658",
     "status": "completed"
    },
    "tags": []
   },
   "source": [
    "### Key Observations:\n",
    "1. **`brand`**: 57 unique car brands.\n",
    "2. **`model`**: 1897 unique car models, which means that the model is a high-cardinality feature.\n",
    "3. **`fuel_type`**: 8 unique fuel types, which is a manageable number of categories for one-hot encoding.\n",
    "4. **`engine`**: 1117 unique engine descriptions, which also makes it a high-cardinality feature.\n",
    "5. **`transmission`**: 52 unique transmission types.\n",
    "6. **`ext_col` (exterior color)**: 319 unique colors, which is moderately high.\n",
    "7. **`int_col` (interior color)**: 156 unique colors.\n",
    "8. **`accident`**: Binary variable with two categories.\n",
    "9. **`clean_title`**: Binary variable with two categories."
   ]
  },
  {
   "cell_type": "markdown",
   "id": "8bc668d7",
   "metadata": {
    "papermill": {
     "duration": 0.027033,
     "end_time": "2024-09-21T15:16:44.436504",
     "exception": false,
     "start_time": "2024-09-21T15:16:44.409471",
     "status": "completed"
    },
    "tags": []
   },
   "source": [
    "# Feature Engineering"
   ]
  },
  {
   "cell_type": "code",
   "execution_count": 18,
   "id": "faa4e919",
   "metadata": {
    "execution": {
     "iopub.execute_input": "2024-09-21T15:16:44.488136Z",
     "iopub.status.busy": "2024-09-21T15:16:44.487687Z",
     "iopub.status.idle": "2024-09-21T15:16:44.522392Z",
     "shell.execute_reply": "2024-09-21T15:16:44.521315Z"
    },
    "papermill": {
     "duration": 0.063614,
     "end_time": "2024-09-21T15:16:44.525139",
     "exception": false,
     "start_time": "2024-09-21T15:16:44.461525",
     "status": "completed"
    },
    "tags": []
   },
   "outputs": [],
   "source": [
    "train_data.drop(columns=['id'], inplace=True)\n",
    "test_data.drop(columns=['id'], inplace=True)"
   ]
  },
  {
   "cell_type": "code",
   "execution_count": 19,
   "id": "89347913",
   "metadata": {
    "execution": {
     "iopub.execute_input": "2024-09-21T15:16:44.576219Z",
     "iopub.status.busy": "2024-09-21T15:16:44.575757Z",
     "iopub.status.idle": "2024-09-21T15:16:44.584891Z",
     "shell.execute_reply": "2024-09-21T15:16:44.583933Z"
    },
    "papermill": {
     "duration": 0.037919,
     "end_time": "2024-09-21T15:16:44.587416",
     "exception": false,
     "start_time": "2024-09-21T15:16:44.549497",
     "status": "completed"
    },
    "tags": []
   },
   "outputs": [],
   "source": [
    "# Create the new 'car_age' feature based on the model year\n",
    "current_year = 2024\n",
    "train_data['car_age'] = current_year - train_data['model_year']\n",
    "test_data['car_age'] = current_year - test_data['model_year']\n"
   ]
  },
  {
   "cell_type": "code",
   "execution_count": 20,
   "id": "9a9177f4",
   "metadata": {
    "execution": {
     "iopub.execute_input": "2024-09-21T15:16:44.639108Z",
     "iopub.status.busy": "2024-09-21T15:16:44.638058Z",
     "iopub.status.idle": "2024-09-21T15:16:44.674890Z",
     "shell.execute_reply": "2024-09-21T15:16:44.673698Z"
    },
    "papermill": {
     "duration": 0.065771,
     "end_time": "2024-09-21T15:16:44.677629",
     "exception": false,
     "start_time": "2024-09-21T15:16:44.611858",
     "status": "completed"
    },
    "tags": []
   },
   "outputs": [
    {
     "data": {
      "text/plain": [
       "array(['172.0HP 1.6L 4 Cylinder Engine Gasoline Fuel',\n",
       "       '252.0HP 3.9L 8 Cylinder Engine Gasoline Fuel',\n",
       "       '320.0HP 5.3L 8 Cylinder Engine Flex Fuel Capability', ...,\n",
       "       '78.0HP 1.2L 3 Cylinder Engine Gasoline Fuel',\n",
       "       '139.0HP 1.6L 4 Cylinder Engine Plug-In Electric/Gas',\n",
       "       '313.0HP 2.0L 4 Cylinder Engine Plug-In Electric/Gas'],\n",
       "      dtype=object)"
      ]
     },
     "execution_count": 20,
     "metadata": {},
     "output_type": "execute_result"
    }
   ],
   "source": [
    "train_data['engine'].unique()"
   ]
  },
  {
   "cell_type": "code",
   "execution_count": 21,
   "id": "af92f3a0",
   "metadata": {
    "execution": {
     "iopub.execute_input": "2024-09-21T15:16:44.733154Z",
     "iopub.status.busy": "2024-09-21T15:16:44.732463Z",
     "iopub.status.idle": "2024-09-21T15:16:44.742457Z",
     "shell.execute_reply": "2024-09-21T15:16:44.741175Z"
    },
    "papermill": {
     "duration": 0.04088,
     "end_time": "2024-09-21T15:16:44.745310",
     "exception": false,
     "start_time": "2024-09-21T15:16:44.704430",
     "status": "completed"
    },
    "tags": []
   },
   "outputs": [],
   "source": [
    "# Function to extract horsepower from engine column\n",
    "def extract_horsepower(engine_str):\n",
    "    match = re.search(r'(\\d+)\\.?\\d*HP', engine_str)\n",
    "    return int(match.group(1)) if match else None\n",
    "\n",
    "# Function to extract engine size from engine column\n",
    "def extract_engine_size(engine_str):\n",
    "    match = re.search(r'(\\d+\\.?\\d*)L', engine_str)\n",
    "    return float(match.group(1)) if match else None\n",
    "\n",
    "# Function to extract cylinder count from engine column\n",
    "def extract_cylinder_count(engine_str):\n",
    "    match = re.search(r'(\\d+) Cylinder', engine_str)\n",
    "    return int(match.group(1)) if match else None"
   ]
  },
  {
   "cell_type": "code",
   "execution_count": 22,
   "id": "898f1961",
   "metadata": {
    "execution": {
     "iopub.execute_input": "2024-09-21T15:16:44.801562Z",
     "iopub.status.busy": "2024-09-21T15:16:44.800319Z",
     "iopub.status.idle": "2024-09-21T15:16:48.434874Z",
     "shell.execute_reply": "2024-09-21T15:16:48.433412Z"
    },
    "papermill": {
     "duration": 3.66502,
     "end_time": "2024-09-21T15:16:48.437717",
     "exception": false,
     "start_time": "2024-09-21T15:16:44.772697",
     "status": "completed"
    },
    "tags": []
   },
   "outputs": [],
   "source": [
    "# Apply the extraction functions to both training and test datasets\n",
    "train_data['horsepower'] = train_data['engine'].apply(extract_horsepower)\n",
    "train_data['engine_size'] = train_data['engine'].apply(extract_engine_size)\n",
    "\n",
    "test_data['horsepower'] = test_data['engine'].apply(extract_horsepower)\n",
    "test_data['engine_size'] = test_data['engine'].apply(extract_engine_size)\n",
    "\n",
    "# Apply the extraction function to both training and test datasets\n",
    "train_data['cylinder_count'] = train_data['engine'].apply(extract_cylinder_count)\n",
    "test_data['cylinder_count'] = test_data['engine'].apply(extract_cylinder_count)"
   ]
  },
  {
   "cell_type": "code",
   "execution_count": 23,
   "id": "0cf3429e",
   "metadata": {
    "execution": {
     "iopub.execute_input": "2024-09-21T15:16:48.489000Z",
     "iopub.status.busy": "2024-09-21T15:16:48.487952Z",
     "iopub.status.idle": "2024-09-21T15:16:48.543886Z",
     "shell.execute_reply": "2024-09-21T15:16:48.542769Z"
    },
    "papermill": {
     "duration": 0.084533,
     "end_time": "2024-09-21T15:16:48.546679",
     "exception": false,
     "start_time": "2024-09-21T15:16:48.462146",
     "status": "completed"
    },
    "tags": []
   },
   "outputs": [],
   "source": [
    "# Drop the original 'engine' column\n",
    "train_data.drop('engine', axis=1, inplace=True)\n",
    "test_data.drop('engine', axis=1, inplace=True)"
   ]
  },
  {
   "cell_type": "code",
   "execution_count": 24,
   "id": "598a39ac",
   "metadata": {
    "execution": {
     "iopub.execute_input": "2024-09-21T15:16:48.597116Z",
     "iopub.status.busy": "2024-09-21T15:16:48.596682Z",
     "iopub.status.idle": "2024-09-21T15:16:48.613255Z",
     "shell.execute_reply": "2024-09-21T15:16:48.612095Z"
    },
    "papermill": {
     "duration": 0.044717,
     "end_time": "2024-09-21T15:16:48.615823",
     "exception": false,
     "start_time": "2024-09-21T15:16:48.571106",
     "status": "completed"
    },
    "tags": []
   },
   "outputs": [
    {
     "data": {
      "text/html": [
       "<div>\n",
       "<style scoped>\n",
       "    .dataframe tbody tr th:only-of-type {\n",
       "        vertical-align: middle;\n",
       "    }\n",
       "\n",
       "    .dataframe tbody tr th {\n",
       "        vertical-align: top;\n",
       "    }\n",
       "\n",
       "    .dataframe thead th {\n",
       "        text-align: right;\n",
       "    }\n",
       "</style>\n",
       "<table border=\"1\" class=\"dataframe\">\n",
       "  <thead>\n",
       "    <tr style=\"text-align: right;\">\n",
       "      <th></th>\n",
       "      <th>horsepower</th>\n",
       "      <th>engine_size</th>\n",
       "      <th>cylinder_count</th>\n",
       "      <th>car_age</th>\n",
       "    </tr>\n",
       "  </thead>\n",
       "  <tbody>\n",
       "    <tr>\n",
       "      <th>0</th>\n",
       "      <td>172.0</td>\n",
       "      <td>1.6</td>\n",
       "      <td>4.0</td>\n",
       "      <td>17</td>\n",
       "    </tr>\n",
       "    <tr>\n",
       "      <th>1</th>\n",
       "      <td>252.0</td>\n",
       "      <td>3.9</td>\n",
       "      <td>8.0</td>\n",
       "      <td>22</td>\n",
       "    </tr>\n",
       "    <tr>\n",
       "      <th>2</th>\n",
       "      <td>320.0</td>\n",
       "      <td>5.3</td>\n",
       "      <td>8.0</td>\n",
       "      <td>22</td>\n",
       "    </tr>\n",
       "    <tr>\n",
       "      <th>3</th>\n",
       "      <td>420.0</td>\n",
       "      <td>5.0</td>\n",
       "      <td>8.0</td>\n",
       "      <td>7</td>\n",
       "    </tr>\n",
       "    <tr>\n",
       "      <th>4</th>\n",
       "      <td>208.0</td>\n",
       "      <td>2.0</td>\n",
       "      <td>4.0</td>\n",
       "      <td>3</td>\n",
       "    </tr>\n",
       "  </tbody>\n",
       "</table>\n",
       "</div>"
      ],
      "text/plain": [
       "   horsepower  engine_size  cylinder_count  car_age\n",
       "0       172.0          1.6             4.0       17\n",
       "1       252.0          3.9             8.0       22\n",
       "2       320.0          5.3             8.0       22\n",
       "3       420.0          5.0             8.0        7\n",
       "4       208.0          2.0             4.0        3"
      ]
     },
     "execution_count": 24,
     "metadata": {},
     "output_type": "execute_result"
    }
   ],
   "source": [
    "# Inspect the new features in the training data\n",
    "train_data[['horsepower', 'engine_size', 'cylinder_count', 'car_age']].head()"
   ]
  },
  {
   "cell_type": "code",
   "execution_count": 25,
   "id": "bf08b3d3",
   "metadata": {
    "execution": {
     "iopub.execute_input": "2024-09-21T15:16:48.666899Z",
     "iopub.status.busy": "2024-09-21T15:16:48.666439Z",
     "iopub.status.idle": "2024-09-21T15:16:48.691592Z",
     "shell.execute_reply": "2024-09-21T15:16:48.690360Z"
    },
    "papermill": {
     "duration": 0.053705,
     "end_time": "2024-09-21T15:16:48.694155",
     "exception": false,
     "start_time": "2024-09-21T15:16:48.640450",
     "status": "completed"
    },
    "tags": []
   },
   "outputs": [
    {
     "data": {
      "text/plain": [
       "array(['Gasoline', 'E85 Flex Fuel', 'Electricity', 'Hybrid', 'Diesel',\n",
       "       'Plug-In Hybrid', '–', 'not supported'], dtype=object)"
      ]
     },
     "execution_count": 25,
     "metadata": {},
     "output_type": "execute_result"
    }
   ],
   "source": [
    "train_data['fuel_type'].unique()"
   ]
  },
  {
   "cell_type": "code",
   "execution_count": 26,
   "id": "80721825",
   "metadata": {
    "execution": {
     "iopub.execute_input": "2024-09-21T15:16:48.747234Z",
     "iopub.status.busy": "2024-09-21T15:16:48.746717Z",
     "iopub.status.idle": "2024-09-21T15:16:48.821639Z",
     "shell.execute_reply": "2024-09-21T15:16:48.820520Z"
    },
    "papermill": {
     "duration": 0.105336,
     "end_time": "2024-09-21T15:16:48.824405",
     "exception": false,
     "start_time": "2024-09-21T15:16:48.719069",
     "status": "completed"
    },
    "tags": []
   },
   "outputs": [],
   "source": [
    "# Replace unsupported values in 'fuel_type'\n",
    "train_data['fuel_type'].replace(['–', 'not supported'], 'Unknown', inplace=True)\n",
    "test_data['fuel_type'].replace(['–', 'not supported'], 'Unknown', inplace=True)"
   ]
  },
  {
   "cell_type": "code",
   "execution_count": 27,
   "id": "876e5b94",
   "metadata": {
    "execution": {
     "iopub.execute_input": "2024-09-21T15:16:48.877168Z",
     "iopub.status.busy": "2024-09-21T15:16:48.876722Z",
     "iopub.status.idle": "2024-09-21T15:16:48.913418Z",
     "shell.execute_reply": "2024-09-21T15:16:48.911107Z"
    },
    "papermill": {
     "duration": 0.066458,
     "end_time": "2024-09-21T15:16:48.916294",
     "exception": false,
     "start_time": "2024-09-21T15:16:48.849836",
     "status": "completed"
    },
    "tags": []
   },
   "outputs": [
    {
     "name": "stdout",
     "output_type": "stream",
     "text": [
      "['Gasoline' 'E85 Flex Fuel' 'Electricity' 'Hybrid' 'Diesel'\n",
      " 'Plug-In Hybrid' 'Unknown']\n",
      "['Gasoline' 'Hybrid' 'Diesel' 'E85 Flex Fuel' 'Electricity'\n",
      " 'Plug-In Hybrid' 'Unknown']\n"
     ]
    }
   ],
   "source": [
    "# Check the unique values again\n",
    "print(train_data['fuel_type'].unique())\n",
    "print(test_data['fuel_type'].unique())"
   ]
  },
  {
   "cell_type": "code",
   "execution_count": 28,
   "id": "10b72940",
   "metadata": {
    "execution": {
     "iopub.execute_input": "2024-09-21T15:16:48.973219Z",
     "iopub.status.busy": "2024-09-21T15:16:48.972407Z",
     "iopub.status.idle": "2024-09-21T15:16:48.999802Z",
     "shell.execute_reply": "2024-09-21T15:16:48.998626Z"
    },
    "papermill": {
     "duration": 0.056928,
     "end_time": "2024-09-21T15:16:49.002437",
     "exception": false,
     "start_time": "2024-09-21T15:16:48.945509",
     "status": "completed"
    },
    "tags": []
   },
   "outputs": [
    {
     "data": {
      "text/plain": [
       "array(['A/T', 'Transmission w/Dual Shift Mode', '7-Speed A/T',\n",
       "       '8-Speed A/T', '10-Speed Automatic', '1-Speed A/T', '6-Speed A/T',\n",
       "       '10-Speed A/T', '9-Speed A/T', '8-Speed Automatic',\n",
       "       '9-Speed Automatic', '5-Speed A/T', 'Automatic',\n",
       "       '7-Speed Automatic with Auto-Shift', 'CVT Transmission',\n",
       "       '5-Speed M/T', 'M/T', '6-Speed M/T', '6-Speed Automatic',\n",
       "       '4-Speed Automatic', '7-Speed M/T', '2-Speed A/T',\n",
       "       '1-Speed Automatic', 'Automatic CVT', '4-Speed A/T',\n",
       "       '6-Speed Manual', 'Transmission Overdrive Switch',\n",
       "       '8-Speed Automatic with Auto-Shift', '7-Speed Manual',\n",
       "       '7-Speed Automatic', '9-Speed Automatic with Auto-Shift',\n",
       "       '6-Speed Automatic with Auto-Shift',\n",
       "       '6-Speed Electronically Controlled Automatic with O', 'F', 'CVT-F',\n",
       "       '8-Speed Manual', 'Manual', '–', '2', '6 Speed At/Mt',\n",
       "       '5-Speed Automatic', '2-Speed Automatic', '8-SPEED A/T', '7-Speed',\n",
       "       'Variable', 'Single-Speed Fixed Gear', '8-SPEED AT',\n",
       "       '10-Speed Automatic with Overdrive', '7-Speed DCT Automatic',\n",
       "       'SCHEDULED FOR OR IN PRODUCTION', '6-Speed', '6 Speed Mt'],\n",
       "      dtype=object)"
      ]
     },
     "execution_count": 28,
     "metadata": {},
     "output_type": "execute_result"
    }
   ],
   "source": [
    "train_data['transmission'].unique()"
   ]
  },
  {
   "cell_type": "code",
   "execution_count": 29,
   "id": "0e81e5bf",
   "metadata": {
    "execution": {
     "iopub.execute_input": "2024-09-21T15:16:49.056737Z",
     "iopub.status.busy": "2024-09-21T15:16:49.056249Z",
     "iopub.status.idle": "2024-09-21T15:16:49.063752Z",
     "shell.execute_reply": "2024-09-21T15:16:49.062460Z"
    },
    "papermill": {
     "duration": 0.036938,
     "end_time": "2024-09-21T15:16:49.066165",
     "exception": false,
     "start_time": "2024-09-21T15:16:49.029227",
     "status": "completed"
    },
    "tags": []
   },
   "outputs": [],
   "source": [
    "# Implementing the extraction of 'Transmission Type' and 'Number of Speeds' for both training and test datasets\n",
    "def extract_transmission_type(transmission_str):\n",
    "    if 'Automatic' in transmission_str or 'A/T' in transmission_str:\n",
    "        return 'Automatic'\n",
    "    elif 'Manual' in transmission_str or 'M/T' in transmission_str:\n",
    "        return 'Manual'\n",
    "    elif 'CVT' in transmission_str:\n",
    "        return 'CVT'\n",
    "    else:\n",
    "        return 'Other'\n",
    "\n",
    "def extract_speeds(transmission_str):\n",
    "    match = re.search(r'(\\d+)-Speed', transmission_str)\n",
    "    return int(match.group(1)) if match else None\n",
    "\n"
   ]
  },
  {
   "cell_type": "code",
   "execution_count": 30,
   "id": "60368e9b",
   "metadata": {
    "execution": {
     "iopub.execute_input": "2024-09-21T15:16:49.176710Z",
     "iopub.status.busy": "2024-09-21T15:16:49.176249Z",
     "iopub.status.idle": "2024-09-21T15:16:50.039689Z",
     "shell.execute_reply": "2024-09-21T15:16:50.038413Z"
    },
    "papermill": {
     "duration": 0.949695,
     "end_time": "2024-09-21T15:16:50.042386",
     "exception": false,
     "start_time": "2024-09-21T15:16:49.092691",
     "status": "completed"
    },
    "tags": []
   },
   "outputs": [],
   "source": [
    "# Apply the extraction functions to both the training and test datasets\n",
    "train_data['transmission_type'] = train_data['transmission'].apply(extract_transmission_type)\n",
    "train_data['num_speeds'] = train_data['transmission'].apply(extract_speeds)\n",
    "\n",
    "test_data['transmission_type'] = test_data['transmission'].apply(extract_transmission_type)\n",
    "test_data['num_speeds'] = test_data['transmission'].apply(extract_speeds)\n"
   ]
  },
  {
   "cell_type": "code",
   "execution_count": 31,
   "id": "71995470",
   "metadata": {
    "execution": {
     "iopub.execute_input": "2024-09-21T15:16:50.096389Z",
     "iopub.status.busy": "2024-09-21T15:16:50.095940Z",
     "iopub.status.idle": "2024-09-21T15:16:50.151441Z",
     "shell.execute_reply": "2024-09-21T15:16:50.150227Z"
    },
    "papermill": {
     "duration": 0.086375,
     "end_time": "2024-09-21T15:16:50.154694",
     "exception": false,
     "start_time": "2024-09-21T15:16:50.068319",
     "status": "completed"
    },
    "tags": []
   },
   "outputs": [],
   "source": [
    "# Drop the original 'transmission' column\n",
    "train_data.drop('transmission', axis=1, inplace=True)\n",
    "test_data.drop('transmission', axis=1, inplace=True)"
   ]
  },
  {
   "cell_type": "code",
   "execution_count": 32,
   "id": "7d94d2ff",
   "metadata": {
    "execution": {
     "iopub.execute_input": "2024-09-21T15:16:50.207478Z",
     "iopub.status.busy": "2024-09-21T15:16:50.206511Z",
     "iopub.status.idle": "2024-09-21T15:16:50.222756Z",
     "shell.execute_reply": "2024-09-21T15:16:50.221664Z"
    },
    "papermill": {
     "duration": 0.045653,
     "end_time": "2024-09-21T15:16:50.225388",
     "exception": false,
     "start_time": "2024-09-21T15:16:50.179735",
     "status": "completed"
    },
    "tags": []
   },
   "outputs": [
    {
     "data": {
      "text/html": [
       "<div>\n",
       "<style scoped>\n",
       "    .dataframe tbody tr th:only-of-type {\n",
       "        vertical-align: middle;\n",
       "    }\n",
       "\n",
       "    .dataframe tbody tr th {\n",
       "        vertical-align: top;\n",
       "    }\n",
       "\n",
       "    .dataframe thead th {\n",
       "        text-align: right;\n",
       "    }\n",
       "</style>\n",
       "<table border=\"1\" class=\"dataframe\">\n",
       "  <thead>\n",
       "    <tr style=\"text-align: right;\">\n",
       "      <th></th>\n",
       "      <th>transmission_type</th>\n",
       "      <th>num_speeds</th>\n",
       "    </tr>\n",
       "  </thead>\n",
       "  <tbody>\n",
       "    <tr>\n",
       "      <th>0</th>\n",
       "      <td>Automatic</td>\n",
       "      <td>NaN</td>\n",
       "    </tr>\n",
       "    <tr>\n",
       "      <th>1</th>\n",
       "      <td>Automatic</td>\n",
       "      <td>NaN</td>\n",
       "    </tr>\n",
       "    <tr>\n",
       "      <th>2</th>\n",
       "      <td>Automatic</td>\n",
       "      <td>NaN</td>\n",
       "    </tr>\n",
       "    <tr>\n",
       "      <th>3</th>\n",
       "      <td>Other</td>\n",
       "      <td>NaN</td>\n",
       "    </tr>\n",
       "    <tr>\n",
       "      <th>4</th>\n",
       "      <td>Automatic</td>\n",
       "      <td>7.0</td>\n",
       "    </tr>\n",
       "  </tbody>\n",
       "</table>\n",
       "</div>"
      ],
      "text/plain": [
       "  transmission_type  num_speeds\n",
       "0         Automatic         NaN\n",
       "1         Automatic         NaN\n",
       "2         Automatic         NaN\n",
       "3             Other         NaN\n",
       "4         Automatic         7.0"
      ]
     },
     "execution_count": 32,
     "metadata": {},
     "output_type": "execute_result"
    }
   ],
   "source": [
    "# Inspect the new features in the training data\n",
    "train_data[['transmission_type', 'num_speeds']].head()"
   ]
  },
  {
   "cell_type": "code",
   "execution_count": 33,
   "id": "33316c8c",
   "metadata": {
    "execution": {
     "iopub.execute_input": "2024-09-21T15:16:50.278872Z",
     "iopub.status.busy": "2024-09-21T15:16:50.278410Z",
     "iopub.status.idle": "2024-09-21T15:16:50.303080Z",
     "shell.execute_reply": "2024-09-21T15:16:50.301867Z"
    },
    "papermill": {
     "duration": 0.0543,
     "end_time": "2024-09-21T15:16:50.305778",
     "exception": false,
     "start_time": "2024-09-21T15:16:50.251478",
     "status": "completed"
    },
    "tags": []
   },
   "outputs": [
    {
     "data": {
      "text/plain": [
       "array(['Automatic', 'Other', 'CVT', 'Manual'], dtype=object)"
      ]
     },
     "execution_count": 33,
     "metadata": {},
     "output_type": "execute_result"
    }
   ],
   "source": [
    "train_data['transmission_type'].unique()"
   ]
  },
  {
   "cell_type": "code",
   "execution_count": 34,
   "id": "751f8c14",
   "metadata": {
    "execution": {
     "iopub.execute_input": "2024-09-21T15:16:50.360002Z",
     "iopub.status.busy": "2024-09-21T15:16:50.359532Z",
     "iopub.status.idle": "2024-09-21T15:16:50.371762Z",
     "shell.execute_reply": "2024-09-21T15:16:50.370623Z"
    },
    "papermill": {
     "duration": 0.042114,
     "end_time": "2024-09-21T15:16:50.374560",
     "exception": false,
     "start_time": "2024-09-21T15:16:50.332446",
     "status": "completed"
    },
    "tags": []
   },
   "outputs": [
    {
     "data": {
      "text/plain": [
       "array([nan,  7.,  8., 10.,  1.,  6.,  9.,  5.,  4.,  2.])"
      ]
     },
     "execution_count": 34,
     "metadata": {},
     "output_type": "execute_result"
    }
   ],
   "source": [
    "train_data['num_speeds'].unique()"
   ]
  },
  {
   "cell_type": "code",
   "execution_count": 35,
   "id": "41daa1d2",
   "metadata": {
    "execution": {
     "iopub.execute_input": "2024-09-21T15:16:50.429651Z",
     "iopub.status.busy": "2024-09-21T15:16:50.428408Z",
     "iopub.status.idle": "2024-09-21T15:16:50.602660Z",
     "shell.execute_reply": "2024-09-21T15:16:50.601427Z"
    },
    "papermill": {
     "duration": 0.204751,
     "end_time": "2024-09-21T15:16:50.605300",
     "exception": false,
     "start_time": "2024-09-21T15:16:50.400549",
     "status": "completed"
    },
    "tags": []
   },
   "outputs": [
    {
     "name": "stdout",
     "output_type": "stream",
     "text": [
      "brand                    0\n",
      "model                    0\n",
      "model_year               0\n",
      "milage                   0\n",
      "fuel_type                0\n",
      "ext_col                  0\n",
      "int_col                  0\n",
      "accident                 0\n",
      "clean_title              0\n",
      "price                    0\n",
      "car_age                  0\n",
      "horsepower           33259\n",
      "engine_size          14214\n",
      "cylinder_count       37855\n",
      "transmission_type        0\n",
      "num_speeds           84454\n",
      "dtype: int64\n"
     ]
    }
   ],
   "source": [
    "print(train_data.isnull().sum())"
   ]
  },
  {
   "cell_type": "code",
   "execution_count": 36,
   "id": "9e70a6ed",
   "metadata": {
    "execution": {
     "iopub.execute_input": "2024-09-21T15:16:50.663426Z",
     "iopub.status.busy": "2024-09-21T15:16:50.662647Z",
     "iopub.status.idle": "2024-09-21T15:16:50.715772Z",
     "shell.execute_reply": "2024-09-21T15:16:50.714659Z"
    },
    "papermill": {
     "duration": 0.085306,
     "end_time": "2024-09-21T15:16:50.718618",
     "exception": false,
     "start_time": "2024-09-21T15:16:50.633312",
     "status": "completed"
    },
    "tags": []
   },
   "outputs": [],
   "source": [
    "# Initialize SimpleImputer with strategy='mean' for filling missing values\n",
    "imputer = SimpleImputer(strategy='mean')\n",
    "\n",
    "# Selecting the numerical columns that have missing values\n",
    "numerical_cols_to_impute = ['horsepower', 'engine_size', 'cylinder_count', 'num_speeds']\n",
    "\n",
    "# Apply the imputer to the selected numerical columns in both train and test datasets\n",
    "train_data[numerical_cols_to_impute] = imputer.fit_transform(train_data[numerical_cols_to_impute])\n",
    "test_data[numerical_cols_to_impute] = imputer.transform(test_data[numerical_cols_to_impute])"
   ]
  },
  {
   "cell_type": "code",
   "execution_count": 37,
   "id": "73f6ee0b",
   "metadata": {
    "execution": {
     "iopub.execute_input": "2024-09-21T15:16:50.772024Z",
     "iopub.status.busy": "2024-09-21T15:16:50.771602Z",
     "iopub.status.idle": "2024-09-21T15:16:50.790394Z",
     "shell.execute_reply": "2024-09-21T15:16:50.789047Z"
    },
    "papermill": {
     "duration": 0.048416,
     "end_time": "2024-09-21T15:16:50.792880",
     "exception": false,
     "start_time": "2024-09-21T15:16:50.744464",
     "status": "completed"
    },
    "tags": []
   },
   "outputs": [
    {
     "data": {
      "text/plain": [
       "(horsepower        0\n",
       " engine_size       0\n",
       " cylinder_count    0\n",
       " num_speeds        0\n",
       " dtype: int64,\n",
       " horsepower        0\n",
       " engine_size       0\n",
       " cylinder_count    0\n",
       " num_speeds        0\n",
       " dtype: int64)"
      ]
     },
     "execution_count": 37,
     "metadata": {},
     "output_type": "execute_result"
    }
   ],
   "source": [
    "# Check if missing values have been filled in the training data\n",
    "missing_values_after_simple_imputation = train_data[numerical_cols_to_impute].isnull().sum()\n",
    "\n",
    "# Check if missing values have been filled in the test data\n",
    "missing_values_test_after_simple_imputation = test_data[numerical_cols_to_impute].isnull().sum()\n",
    "\n",
    "missing_values_after_simple_imputation, missing_values_test_after_simple_imputation"
   ]
  },
  {
   "cell_type": "code",
   "execution_count": 38,
   "id": "6e80bdb2",
   "metadata": {
    "execution": {
     "iopub.execute_input": "2024-09-21T15:16:50.851323Z",
     "iopub.status.busy": "2024-09-21T15:16:50.850871Z",
     "iopub.status.idle": "2024-09-21T15:16:51.038653Z",
     "shell.execute_reply": "2024-09-21T15:16:51.036597Z"
    },
    "papermill": {
     "duration": 0.221658,
     "end_time": "2024-09-21T15:16:51.041457",
     "exception": false,
     "start_time": "2024-09-21T15:16:50.819799",
     "status": "completed"
    },
    "tags": []
   },
   "outputs": [
    {
     "name": "stdout",
     "output_type": "stream",
     "text": [
      "<class 'pandas.core.frame.DataFrame'>\n",
      "RangeIndex: 188533 entries, 0 to 188532\n",
      "Data columns (total 16 columns):\n",
      " #   Column             Non-Null Count   Dtype  \n",
      "---  ------             --------------   -----  \n",
      " 0   brand              188533 non-null  object \n",
      " 1   model              188533 non-null  object \n",
      " 2   model_year         188533 non-null  int64  \n",
      " 3   milage             188533 non-null  int64  \n",
      " 4   fuel_type          188533 non-null  object \n",
      " 5   ext_col            188533 non-null  object \n",
      " 6   int_col            188533 non-null  object \n",
      " 7   accident           188533 non-null  object \n",
      " 8   clean_title        188533 non-null  object \n",
      " 9   price              188533 non-null  int64  \n",
      " 10  car_age            188533 non-null  int64  \n",
      " 11  horsepower         188533 non-null  float64\n",
      " 12  engine_size        188533 non-null  float64\n",
      " 13  cylinder_count     188533 non-null  float64\n",
      " 14  transmission_type  188533 non-null  object \n",
      " 15  num_speeds         188533 non-null  float64\n",
      "dtypes: float64(4), int64(4), object(8)\n",
      "memory usage: 23.0+ MB\n",
      "None\n"
     ]
    }
   ],
   "source": [
    "print(train_data.info())"
   ]
  },
  {
   "cell_type": "code",
   "execution_count": 39,
   "id": "1d37a4f5",
   "metadata": {
    "execution": {
     "iopub.execute_input": "2024-09-21T15:16:51.119685Z",
     "iopub.status.busy": "2024-09-21T15:16:51.119166Z",
     "iopub.status.idle": "2024-09-21T15:16:51.354489Z",
     "shell.execute_reply": "2024-09-21T15:16:51.353257Z"
    },
    "papermill": {
     "duration": 0.277004,
     "end_time": "2024-09-21T15:16:51.357397",
     "exception": false,
     "start_time": "2024-09-21T15:16:51.080393",
     "status": "completed"
    },
    "tags": []
   },
   "outputs": [
    {
     "data": {
      "text/plain": [
       "brand                  57\n",
       "model                1897\n",
       "fuel_type               7\n",
       "ext_col               319\n",
       "int_col               156\n",
       "accident                2\n",
       "clean_title             2\n",
       "transmission_type       4\n",
       "dtype: int64"
      ]
     },
     "execution_count": 39,
     "metadata": {},
     "output_type": "execute_result"
    }
   ],
   "source": [
    "cat_cols = train_data.select_dtypes(include=['object']).columns\n",
    "train_data[cat_cols].nunique()"
   ]
  },
  {
   "cell_type": "code",
   "execution_count": 40,
   "id": "1b46668f",
   "metadata": {
    "execution": {
     "iopub.execute_input": "2024-09-21T15:16:51.414565Z",
     "iopub.status.busy": "2024-09-21T15:16:51.414084Z",
     "iopub.status.idle": "2024-09-21T15:16:51.441775Z",
     "shell.execute_reply": "2024-09-21T15:16:51.440682Z"
    },
    "papermill": {
     "duration": 0.060348,
     "end_time": "2024-09-21T15:16:51.444422",
     "exception": false,
     "start_time": "2024-09-21T15:16:51.384074",
     "status": "completed"
    },
    "tags": []
   },
   "outputs": [
    {
     "data": {
      "text/plain": [
       "array(['None reported', 'At least 1 accident or damage reported'],\n",
       "      dtype=object)"
      ]
     },
     "execution_count": 40,
     "metadata": {},
     "output_type": "execute_result"
    }
   ],
   "source": [
    "train_data['accident'].unique()"
   ]
  },
  {
   "cell_type": "code",
   "execution_count": 41,
   "id": "c8bea009",
   "metadata": {
    "execution": {
     "iopub.execute_input": "2024-09-21T15:16:51.500041Z",
     "iopub.status.busy": "2024-09-21T15:16:51.499565Z",
     "iopub.status.idle": "2024-09-21T15:16:51.522704Z",
     "shell.execute_reply": "2024-09-21T15:16:51.521285Z"
    },
    "papermill": {
     "duration": 0.053495,
     "end_time": "2024-09-21T15:16:51.525296",
     "exception": false,
     "start_time": "2024-09-21T15:16:51.471801",
     "status": "completed"
    },
    "tags": []
   },
   "outputs": [
    {
     "data": {
      "text/plain": [
       "array(['Yes', 'No'], dtype=object)"
      ]
     },
     "execution_count": 41,
     "metadata": {},
     "output_type": "execute_result"
    }
   ],
   "source": [
    "train_data['clean_title'].unique()"
   ]
  },
  {
   "cell_type": "code",
   "execution_count": 42,
   "id": "d888249c",
   "metadata": {
    "execution": {
     "iopub.execute_input": "2024-09-21T15:16:51.582237Z",
     "iopub.status.busy": "2024-09-21T15:16:51.581170Z",
     "iopub.status.idle": "2024-09-21T15:16:51.663266Z",
     "shell.execute_reply": "2024-09-21T15:16:51.662278Z"
    },
    "papermill": {
     "duration": 0.113774,
     "end_time": "2024-09-21T15:16:51.666052",
     "exception": false,
     "start_time": "2024-09-21T15:16:51.552278",
     "status": "completed"
    },
    "tags": []
   },
   "outputs": [],
   "source": [
    "# Encode 'accident' as 0 for 'None reported' and 1 for 'At least 1 accident or damage reported'\n",
    "train_data['accident_encoded'] = train_data['accident'].map({'None reported': 0, 'At least 1 accident or damage reported': 1})\n",
    "test_data['accident_encoded'] = test_data['accident'].map({'None reported': 0, 'At least 1 accident or damage reported': 1})\n",
    "\n",
    "# Encode 'clean_title' as 1 for 'Yes' and 0 for 'No'\n",
    "train_data['clean_title_encoded'] = train_data['clean_title'].map({'Yes': 1, 'No': 0})\n",
    "test_data['clean_title_encoded'] = test_data['clean_title'].map({'Yes': 1, 'No': 0})"
   ]
  },
  {
   "cell_type": "code",
   "execution_count": 43,
   "id": "7881bfb8",
   "metadata": {
    "execution": {
     "iopub.execute_input": "2024-09-21T15:16:51.721225Z",
     "iopub.status.busy": "2024-09-21T15:16:51.720765Z",
     "iopub.status.idle": "2024-09-21T15:16:51.745206Z",
     "shell.execute_reply": "2024-09-21T15:16:51.744109Z"
    },
    "papermill": {
     "duration": 0.055192,
     "end_time": "2024-09-21T15:16:51.747896",
     "exception": false,
     "start_time": "2024-09-21T15:16:51.692704",
     "status": "completed"
    },
    "tags": []
   },
   "outputs": [
    {
     "data": {
      "text/plain": [
       "array(['Gasoline', 'E85 Flex Fuel', 'Electricity', 'Hybrid', 'Diesel',\n",
       "       'Plug-In Hybrid', 'Unknown'], dtype=object)"
      ]
     },
     "execution_count": 43,
     "metadata": {},
     "output_type": "execute_result"
    }
   ],
   "source": [
    "train_data['fuel_type'].unique()"
   ]
  },
  {
   "cell_type": "code",
   "execution_count": 44,
   "id": "9e55cd8f",
   "metadata": {
    "execution": {
     "iopub.execute_input": "2024-09-21T15:16:51.804836Z",
     "iopub.status.busy": "2024-09-21T15:16:51.803682Z",
     "iopub.status.idle": "2024-09-21T15:16:51.828103Z",
     "shell.execute_reply": "2024-09-21T15:16:51.827015Z"
    },
    "papermill": {
     "duration": 0.055621,
     "end_time": "2024-09-21T15:16:51.830657",
     "exception": false,
     "start_time": "2024-09-21T15:16:51.775036",
     "status": "completed"
    },
    "tags": []
   },
   "outputs": [
    {
     "data": {
      "text/plain": [
       "array(['Automatic', 'Other', 'CVT', 'Manual'], dtype=object)"
      ]
     },
     "execution_count": 44,
     "metadata": {},
     "output_type": "execute_result"
    }
   ],
   "source": [
    "train_data['transmission_type'].unique()"
   ]
  },
  {
   "cell_type": "code",
   "execution_count": 45,
   "id": "5021588f",
   "metadata": {
    "execution": {
     "iopub.execute_input": "2024-09-21T15:16:51.886378Z",
     "iopub.status.busy": "2024-09-21T15:16:51.885928Z",
     "iopub.status.idle": "2024-09-21T15:16:52.056939Z",
     "shell.execute_reply": "2024-09-21T15:16:52.055901Z"
    },
    "papermill": {
     "duration": 0.20246,
     "end_time": "2024-09-21T15:16:52.059990",
     "exception": false,
     "start_time": "2024-09-21T15:16:51.857530",
     "status": "completed"
    },
    "tags": []
   },
   "outputs": [],
   "source": [
    "# Initialize the LabelEncoder\n",
    "label_encoder = LabelEncoder()\n",
    "\n",
    "# Apply Label Encoding to 'fuel_type'\n",
    "train_data['fuel_type_encoded'] = label_encoder.fit_transform(train_data['fuel_type'])\n",
    "test_data['fuel_type_encoded'] = label_encoder.transform(test_data['fuel_type'])\n",
    "\n",
    "# Apply Label Encoding to 'transmission_type'\n",
    "train_data['transmission_type_encoded'] = label_encoder.fit_transform(train_data['transmission_type'])\n",
    "test_data['transmission_type_encoded'] = label_encoder.transform(test_data['transmission_type'])\n"
   ]
  },
  {
   "cell_type": "code",
   "execution_count": 46,
   "id": "93f65c66",
   "metadata": {
    "execution": {
     "iopub.execute_input": "2024-09-21T15:16:52.116345Z",
     "iopub.status.busy": "2024-09-21T15:16:52.115895Z",
     "iopub.status.idle": "2024-09-21T15:16:52.152096Z",
     "shell.execute_reply": "2024-09-21T15:16:52.151042Z"
    },
    "papermill": {
     "duration": 0.067763,
     "end_time": "2024-09-21T15:16:52.154841",
     "exception": false,
     "start_time": "2024-09-21T15:16:52.087078",
     "status": "completed"
    },
    "tags": []
   },
   "outputs": [],
   "source": [
    "# Drop the original columns as they are now encoded\n",
    "train_data.drop(['fuel_type', 'transmission_type', 'accident', 'clean_title'], axis=1, inplace=True)\n",
    "test_data.drop(['fuel_type', 'transmission_type', 'accident', 'clean_title'], axis=1, inplace=True)"
   ]
  },
  {
   "cell_type": "code",
   "execution_count": 47,
   "id": "51d69af6",
   "metadata": {
    "execution": {
     "iopub.execute_input": "2024-09-21T15:16:52.211002Z",
     "iopub.status.busy": "2024-09-21T15:16:52.210545Z",
     "iopub.status.idle": "2024-09-21T15:16:52.225797Z",
     "shell.execute_reply": "2024-09-21T15:16:52.224520Z"
    },
    "papermill": {
     "duration": 0.046605,
     "end_time": "2024-09-21T15:16:52.228344",
     "exception": false,
     "start_time": "2024-09-21T15:16:52.181739",
     "status": "completed"
    },
    "tags": []
   },
   "outputs": [
    {
     "data": {
      "text/html": [
       "<div>\n",
       "<style scoped>\n",
       "    .dataframe tbody tr th:only-of-type {\n",
       "        vertical-align: middle;\n",
       "    }\n",
       "\n",
       "    .dataframe tbody tr th {\n",
       "        vertical-align: top;\n",
       "    }\n",
       "\n",
       "    .dataframe thead th {\n",
       "        text-align: right;\n",
       "    }\n",
       "</style>\n",
       "<table border=\"1\" class=\"dataframe\">\n",
       "  <thead>\n",
       "    <tr style=\"text-align: right;\">\n",
       "      <th></th>\n",
       "      <th>fuel_type_encoded</th>\n",
       "      <th>transmission_type_encoded</th>\n",
       "      <th>accident_encoded</th>\n",
       "      <th>clean_title_encoded</th>\n",
       "    </tr>\n",
       "  </thead>\n",
       "  <tbody>\n",
       "    <tr>\n",
       "      <th>0</th>\n",
       "      <td>3</td>\n",
       "      <td>0</td>\n",
       "      <td>0</td>\n",
       "      <td>1</td>\n",
       "    </tr>\n",
       "    <tr>\n",
       "      <th>1</th>\n",
       "      <td>3</td>\n",
       "      <td>0</td>\n",
       "      <td>1</td>\n",
       "      <td>1</td>\n",
       "    </tr>\n",
       "    <tr>\n",
       "      <th>2</th>\n",
       "      <td>1</td>\n",
       "      <td>0</td>\n",
       "      <td>0</td>\n",
       "      <td>1</td>\n",
       "    </tr>\n",
       "    <tr>\n",
       "      <th>3</th>\n",
       "      <td>3</td>\n",
       "      <td>3</td>\n",
       "      <td>0</td>\n",
       "      <td>1</td>\n",
       "    </tr>\n",
       "    <tr>\n",
       "      <th>4</th>\n",
       "      <td>3</td>\n",
       "      <td>0</td>\n",
       "      <td>0</td>\n",
       "      <td>1</td>\n",
       "    </tr>\n",
       "  </tbody>\n",
       "</table>\n",
       "</div>"
      ],
      "text/plain": [
       "   fuel_type_encoded  transmission_type_encoded  accident_encoded  \\\n",
       "0                  3                          0                 0   \n",
       "1                  3                          0                 1   \n",
       "2                  1                          0                 0   \n",
       "3                  3                          3                 0   \n",
       "4                  3                          0                 0   \n",
       "\n",
       "   clean_title_encoded  \n",
       "0                    1  \n",
       "1                    1  \n",
       "2                    1  \n",
       "3                    1  \n",
       "4                    1  "
      ]
     },
     "execution_count": 47,
     "metadata": {},
     "output_type": "execute_result"
    }
   ],
   "source": [
    "# Inspect the first few rows of the updated train_data\n",
    "train_data[['fuel_type_encoded', 'transmission_type_encoded', 'accident_encoded', 'clean_title_encoded']].head()"
   ]
  },
  {
   "cell_type": "code",
   "execution_count": 48,
   "id": "89fc8ae3",
   "metadata": {
    "execution": {
     "iopub.execute_input": "2024-09-21T15:16:52.284544Z",
     "iopub.status.busy": "2024-09-21T15:16:52.284082Z",
     "iopub.status.idle": "2024-09-21T15:16:52.570090Z",
     "shell.execute_reply": "2024-09-21T15:16:52.569069Z"
    },
    "papermill": {
     "duration": 0.317227,
     "end_time": "2024-09-21T15:16:52.572964",
     "exception": false,
     "start_time": "2024-09-21T15:16:52.255737",
     "status": "completed"
    },
    "tags": []
   },
   "outputs": [],
   "source": [
    "# Frequency Encoding for high-cardinality categorical columns\n",
    "\n",
    "# List of columns to apply Frequency Encoding\n",
    "high_cardinality_cols = ['brand', 'model', 'ext_col', 'int_col']\n",
    "\n",
    "for col in high_cardinality_cols:\n",
    "    # Calculate frequency of each category in the training dataset\n",
    "    freq_encoding = train_data[col].value_counts(normalize=True)\n",
    "    \n",
    "    # Map the frequency encoding to the training data\n",
    "    train_data[f'{col}_encoded'] = train_data[col].map(freq_encoding)\n",
    "    \n",
    "    # Map the same encoding to the test data\n",
    "    test_data[f'{col}_encoded'] = test_data[col].map(freq_encoding)\n"
   ]
  },
  {
   "cell_type": "code",
   "execution_count": 49,
   "id": "f7092bd7",
   "metadata": {
    "execution": {
     "iopub.execute_input": "2024-09-21T15:16:52.631737Z",
     "iopub.status.busy": "2024-09-21T15:16:52.631262Z",
     "iopub.status.idle": "2024-09-21T15:16:52.657922Z",
     "shell.execute_reply": "2024-09-21T15:16:52.656544Z"
    },
    "papermill": {
     "duration": 0.060864,
     "end_time": "2024-09-21T15:16:52.660983",
     "exception": false,
     "start_time": "2024-09-21T15:16:52.600119",
     "status": "completed"
    },
    "tags": []
   },
   "outputs": [],
   "source": [
    "# Drop the original high-cardinality categorical columns\n",
    "train_data.drop(high_cardinality_cols, axis=1, inplace=True)\n",
    "test_data.drop(high_cardinality_cols, axis=1, inplace=True)"
   ]
  },
  {
   "cell_type": "code",
   "execution_count": 50,
   "id": "a2fefe5a",
   "metadata": {
    "execution": {
     "iopub.execute_input": "2024-09-21T15:16:52.719146Z",
     "iopub.status.busy": "2024-09-21T15:16:52.718712Z",
     "iopub.status.idle": "2024-09-21T15:16:52.735408Z",
     "shell.execute_reply": "2024-09-21T15:16:52.733940Z"
    },
    "papermill": {
     "duration": 0.048385,
     "end_time": "2024-09-21T15:16:52.738377",
     "exception": false,
     "start_time": "2024-09-21T15:16:52.689992",
     "status": "completed"
    },
    "tags": []
   },
   "outputs": [
    {
     "data": {
      "text/html": [
       "<div>\n",
       "<style scoped>\n",
       "    .dataframe tbody tr th:only-of-type {\n",
       "        vertical-align: middle;\n",
       "    }\n",
       "\n",
       "    .dataframe tbody tr th {\n",
       "        vertical-align: top;\n",
       "    }\n",
       "\n",
       "    .dataframe thead th {\n",
       "        text-align: right;\n",
       "    }\n",
       "</style>\n",
       "<table border=\"1\" class=\"dataframe\">\n",
       "  <thead>\n",
       "    <tr style=\"text-align: right;\">\n",
       "      <th></th>\n",
       "      <th>brand_encoded</th>\n",
       "      <th>model_encoded</th>\n",
       "      <th>ext_col_encoded</th>\n",
       "      <th>int_col_encoded</th>\n",
       "    </tr>\n",
       "  </thead>\n",
       "  <tbody>\n",
       "    <tr>\n",
       "      <th>0</th>\n",
       "      <td>0.005644</td>\n",
       "      <td>0.003066</td>\n",
       "      <td>0.005187</td>\n",
       "      <td>0.112468</td>\n",
       "    </tr>\n",
       "    <tr>\n",
       "      <th>1</th>\n",
       "      <td>0.012852</td>\n",
       "      <td>0.000154</td>\n",
       "      <td>0.090143</td>\n",
       "      <td>0.129924</td>\n",
       "    </tr>\n",
       "    <tr>\n",
       "      <th>2</th>\n",
       "      <td>0.086643</td>\n",
       "      <td>0.000329</td>\n",
       "      <td>0.077201</td>\n",
       "      <td>0.112468</td>\n",
       "    </tr>\n",
       "    <tr>\n",
       "      <th>3</th>\n",
       "      <td>0.005140</td>\n",
       "      <td>0.000504</td>\n",
       "      <td>0.258087</td>\n",
       "      <td>0.571115</td>\n",
       "    </tr>\n",
       "    <tr>\n",
       "      <th>4</th>\n",
       "      <td>0.101690</td>\n",
       "      <td>0.002763</td>\n",
       "      <td>0.258087</td>\n",
       "      <td>0.129924</td>\n",
       "    </tr>\n",
       "  </tbody>\n",
       "</table>\n",
       "</div>"
      ],
      "text/plain": [
       "   brand_encoded  model_encoded  ext_col_encoded  int_col_encoded\n",
       "0       0.005644       0.003066         0.005187         0.112468\n",
       "1       0.012852       0.000154         0.090143         0.129924\n",
       "2       0.086643       0.000329         0.077201         0.112468\n",
       "3       0.005140       0.000504         0.258087         0.571115\n",
       "4       0.101690       0.002763         0.258087         0.129924"
      ]
     },
     "execution_count": 50,
     "metadata": {},
     "output_type": "execute_result"
    }
   ],
   "source": [
    "# Inspect the encoded columns in the training data\n",
    "encoded_cols = [f'{col}_encoded' for col in high_cardinality_cols]\n",
    "train_data[encoded_cols].head()"
   ]
  },
  {
   "cell_type": "code",
   "execution_count": 51,
   "id": "0efa2e50",
   "metadata": {
    "execution": {
     "iopub.execute_input": "2024-09-21T15:16:52.796303Z",
     "iopub.status.busy": "2024-09-21T15:16:52.795847Z",
     "iopub.status.idle": "2024-09-21T15:16:52.814920Z",
     "shell.execute_reply": "2024-09-21T15:16:52.813665Z"
    },
    "papermill": {
     "duration": 0.051585,
     "end_time": "2024-09-21T15:16:52.818299",
     "exception": false,
     "start_time": "2024-09-21T15:16:52.766714",
     "status": "completed"
    },
    "tags": []
   },
   "outputs": [
    {
     "name": "stdout",
     "output_type": "stream",
     "text": [
      "<class 'pandas.core.frame.DataFrame'>\n",
      "RangeIndex: 188533 entries, 0 to 188532\n",
      "Data columns (total 16 columns):\n",
      " #   Column                     Non-Null Count   Dtype  \n",
      "---  ------                     --------------   -----  \n",
      " 0   model_year                 188533 non-null  int64  \n",
      " 1   milage                     188533 non-null  int64  \n",
      " 2   price                      188533 non-null  int64  \n",
      " 3   car_age                    188533 non-null  int64  \n",
      " 4   horsepower                 188533 non-null  float64\n",
      " 5   engine_size                188533 non-null  float64\n",
      " 6   cylinder_count             188533 non-null  float64\n",
      " 7   num_speeds                 188533 non-null  float64\n",
      " 8   accident_encoded           188533 non-null  int64  \n",
      " 9   clean_title_encoded        188533 non-null  int64  \n",
      " 10  fuel_type_encoded          188533 non-null  int64  \n",
      " 11  transmission_type_encoded  188533 non-null  int64  \n",
      " 12  brand_encoded              188533 non-null  float64\n",
      " 13  model_encoded              188533 non-null  float64\n",
      " 14  ext_col_encoded            188533 non-null  float64\n",
      " 15  int_col_encoded            188533 non-null  float64\n",
      "dtypes: float64(8), int64(8)\n",
      "memory usage: 23.0 MB\n",
      "None\n"
     ]
    }
   ],
   "source": [
    "print(train_data.info())"
   ]
  },
  {
   "cell_type": "code",
   "execution_count": 52,
   "id": "755bd164",
   "metadata": {
    "execution": {
     "iopub.execute_input": "2024-09-21T15:16:52.877761Z",
     "iopub.status.busy": "2024-09-21T15:16:52.877309Z",
     "iopub.status.idle": "2024-09-21T15:16:53.063637Z",
     "shell.execute_reply": "2024-09-21T15:16:53.062514Z"
    },
    "papermill": {
     "duration": 0.219705,
     "end_time": "2024-09-21T15:16:53.066083",
     "exception": false,
     "start_time": "2024-09-21T15:16:52.846378",
     "status": "completed"
    },
    "tags": []
   },
   "outputs": [
    {
     "data": {
      "text/html": [
       "<div>\n",
       "<style scoped>\n",
       "    .dataframe tbody tr th:only-of-type {\n",
       "        vertical-align: middle;\n",
       "    }\n",
       "\n",
       "    .dataframe tbody tr th {\n",
       "        vertical-align: top;\n",
       "    }\n",
       "\n",
       "    .dataframe thead th {\n",
       "        text-align: right;\n",
       "    }\n",
       "</style>\n",
       "<table border=\"1\" class=\"dataframe\">\n",
       "  <thead>\n",
       "    <tr style=\"text-align: right;\">\n",
       "      <th></th>\n",
       "      <th>model_year</th>\n",
       "      <th>milage</th>\n",
       "      <th>price</th>\n",
       "      <th>car_age</th>\n",
       "      <th>horsepower</th>\n",
       "      <th>engine_size</th>\n",
       "      <th>cylinder_count</th>\n",
       "      <th>num_speeds</th>\n",
       "      <th>accident_encoded</th>\n",
       "      <th>clean_title_encoded</th>\n",
       "      <th>fuel_type_encoded</th>\n",
       "      <th>transmission_type_encoded</th>\n",
       "      <th>brand_encoded</th>\n",
       "      <th>model_encoded</th>\n",
       "      <th>ext_col_encoded</th>\n",
       "      <th>int_col_encoded</th>\n",
       "    </tr>\n",
       "  </thead>\n",
       "  <tbody>\n",
       "    <tr>\n",
       "      <th>model_year</th>\n",
       "      <td>1.000000</td>\n",
       "      <td>-0.669936</td>\n",
       "      <td>0.231795</td>\n",
       "      <td>-1.000000</td>\n",
       "      <td>0.369001</td>\n",
       "      <td>0.000272</td>\n",
       "      <td>0.007556</td>\n",
       "      <td>0.349395</td>\n",
       "      <td>-0.256367</td>\n",
       "      <td>-0.264893</td>\n",
       "      <td>0.000641</td>\n",
       "      <td>-0.103685</td>\n",
       "      <td>0.051450</td>\n",
       "      <td>0.036473</td>\n",
       "      <td>-0.059496</td>\n",
       "      <td>0.098277</td>\n",
       "    </tr>\n",
       "    <tr>\n",
       "      <th>milage</th>\n",
       "      <td>-0.669936</td>\n",
       "      <td>1.000000</td>\n",
       "      <td>-0.283067</td>\n",
       "      <td>0.669936</td>\n",
       "      <td>-0.403952</td>\n",
       "      <td>-0.032607</td>\n",
       "      <td>-0.075180</td>\n",
       "      <td>-0.259166</td>\n",
       "      <td>0.321356</td>\n",
       "      <td>0.242779</td>\n",
       "      <td>-0.095488</td>\n",
       "      <td>-0.012294</td>\n",
       "      <td>-0.038067</td>\n",
       "      <td>-0.049478</td>\n",
       "      <td>0.089070</td>\n",
       "      <td>-0.091385</td>\n",
       "    </tr>\n",
       "    <tr>\n",
       "      <th>price</th>\n",
       "      <td>0.231795</td>\n",
       "      <td>-0.283067</td>\n",
       "      <td>1.000000</td>\n",
       "      <td>-0.231795</td>\n",
       "      <td>0.214364</td>\n",
       "      <td>0.094445</td>\n",
       "      <td>0.101535</td>\n",
       "      <td>0.102073</td>\n",
       "      <td>-0.125122</td>\n",
       "      <td>-0.089433</td>\n",
       "      <td>0.010780</td>\n",
       "      <td>0.002460</td>\n",
       "      <td>0.009120</td>\n",
       "      <td>0.006274</td>\n",
       "      <td>-0.041946</td>\n",
       "      <td>0.006812</td>\n",
       "    </tr>\n",
       "    <tr>\n",
       "      <th>car_age</th>\n",
       "      <td>-1.000000</td>\n",
       "      <td>0.669936</td>\n",
       "      <td>-0.231795</td>\n",
       "      <td>1.000000</td>\n",
       "      <td>-0.369001</td>\n",
       "      <td>-0.000272</td>\n",
       "      <td>-0.007556</td>\n",
       "      <td>-0.349395</td>\n",
       "      <td>0.256367</td>\n",
       "      <td>0.264893</td>\n",
       "      <td>-0.000641</td>\n",
       "      <td>0.103685</td>\n",
       "      <td>-0.051450</td>\n",
       "      <td>-0.036473</td>\n",
       "      <td>0.059496</td>\n",
       "      <td>-0.098277</td>\n",
       "    </tr>\n",
       "    <tr>\n",
       "      <th>horsepower</th>\n",
       "      <td>0.369001</td>\n",
       "      <td>-0.403952</td>\n",
       "      <td>0.214364</td>\n",
       "      <td>-0.369001</td>\n",
       "      <td>1.000000</td>\n",
       "      <td>0.523567</td>\n",
       "      <td>0.649117</td>\n",
       "      <td>0.111610</td>\n",
       "      <td>-0.191208</td>\n",
       "      <td>-0.010418</td>\n",
       "      <td>-0.058796</td>\n",
       "      <td>0.077234</td>\n",
       "      <td>0.132314</td>\n",
       "      <td>0.137305</td>\n",
       "      <td>0.045280</td>\n",
       "      <td>0.072895</td>\n",
       "    </tr>\n",
       "    <tr>\n",
       "      <th>engine_size</th>\n",
       "      <td>0.000272</td>\n",
       "      <td>-0.032607</td>\n",
       "      <td>0.094445</td>\n",
       "      <td>-0.000272</td>\n",
       "      <td>0.523567</td>\n",
       "      <td>1.000000</td>\n",
       "      <td>0.821679</td>\n",
       "      <td>0.008568</td>\n",
       "      <td>-0.038547</td>\n",
       "      <td>0.016223</td>\n",
       "      <td>-0.246528</td>\n",
       "      <td>-0.047902</td>\n",
       "      <td>0.088163</td>\n",
       "      <td>0.105876</td>\n",
       "      <td>0.018757</td>\n",
       "      <td>-0.019272</td>\n",
       "    </tr>\n",
       "    <tr>\n",
       "      <th>cylinder_count</th>\n",
       "      <td>0.007556</td>\n",
       "      <td>-0.075180</td>\n",
       "      <td>0.101535</td>\n",
       "      <td>-0.007556</td>\n",
       "      <td>0.649117</td>\n",
       "      <td>0.821679</td>\n",
       "      <td>1.000000</td>\n",
       "      <td>0.032363</td>\n",
       "      <td>-0.061010</td>\n",
       "      <td>-0.002387</td>\n",
       "      <td>-0.131484</td>\n",
       "      <td>-0.035051</td>\n",
       "      <td>0.132199</td>\n",
       "      <td>0.117342</td>\n",
       "      <td>0.035196</td>\n",
       "      <td>-0.016052</td>\n",
       "    </tr>\n",
       "    <tr>\n",
       "      <th>num_speeds</th>\n",
       "      <td>0.349395</td>\n",
       "      <td>-0.259166</td>\n",
       "      <td>0.102073</td>\n",
       "      <td>-0.349395</td>\n",
       "      <td>0.111610</td>\n",
       "      <td>0.008568</td>\n",
       "      <td>0.032363</td>\n",
       "      <td>1.000000</td>\n",
       "      <td>-0.093142</td>\n",
       "      <td>-0.078609</td>\n",
       "      <td>0.108391</td>\n",
       "      <td>-0.146535</td>\n",
       "      <td>0.164775</td>\n",
       "      <td>0.075184</td>\n",
       "      <td>-0.018833</td>\n",
       "      <td>0.006392</td>\n",
       "    </tr>\n",
       "    <tr>\n",
       "      <th>accident_encoded</th>\n",
       "      <td>-0.256367</td>\n",
       "      <td>0.321356</td>\n",
       "      <td>-0.125122</td>\n",
       "      <td>0.256367</td>\n",
       "      <td>-0.191208</td>\n",
       "      <td>-0.038547</td>\n",
       "      <td>-0.061010</td>\n",
       "      <td>-0.093142</td>\n",
       "      <td>1.000000</td>\n",
       "      <td>0.143870</td>\n",
       "      <td>-0.032305</td>\n",
       "      <td>-0.003852</td>\n",
       "      <td>-0.039081</td>\n",
       "      <td>-0.065553</td>\n",
       "      <td>0.044378</td>\n",
       "      <td>-0.057981</td>\n",
       "    </tr>\n",
       "    <tr>\n",
       "      <th>clean_title_encoded</th>\n",
       "      <td>-0.264893</td>\n",
       "      <td>0.242779</td>\n",
       "      <td>-0.089433</td>\n",
       "      <td>0.264893</td>\n",
       "      <td>-0.010418</td>\n",
       "      <td>0.016223</td>\n",
       "      <td>-0.002387</td>\n",
       "      <td>-0.078609</td>\n",
       "      <td>0.143870</td>\n",
       "      <td>1.000000</td>\n",
       "      <td>-0.053594</td>\n",
       "      <td>0.129762</td>\n",
       "      <td>0.055557</td>\n",
       "      <td>0.065495</td>\n",
       "      <td>0.294150</td>\n",
       "      <td>0.054499</td>\n",
       "    </tr>\n",
       "    <tr>\n",
       "      <th>fuel_type_encoded</th>\n",
       "      <td>0.000641</td>\n",
       "      <td>-0.095488</td>\n",
       "      <td>0.010780</td>\n",
       "      <td>-0.000641</td>\n",
       "      <td>-0.058796</td>\n",
       "      <td>-0.246528</td>\n",
       "      <td>-0.131484</td>\n",
       "      <td>0.108391</td>\n",
       "      <td>-0.032305</td>\n",
       "      <td>-0.053594</td>\n",
       "      <td>1.000000</td>\n",
       "      <td>0.078088</td>\n",
       "      <td>-0.104265</td>\n",
       "      <td>-0.012075</td>\n",
       "      <td>-0.042375</td>\n",
       "      <td>0.017072</td>\n",
       "    </tr>\n",
       "    <tr>\n",
       "      <th>transmission_type_encoded</th>\n",
       "      <td>-0.103685</td>\n",
       "      <td>-0.012294</td>\n",
       "      <td>0.002460</td>\n",
       "      <td>0.103685</td>\n",
       "      <td>0.077234</td>\n",
       "      <td>-0.047902</td>\n",
       "      <td>-0.035051</td>\n",
       "      <td>-0.146535</td>\n",
       "      <td>-0.003852</td>\n",
       "      <td>0.129762</td>\n",
       "      <td>0.078088</td>\n",
       "      <td>1.000000</td>\n",
       "      <td>0.008889</td>\n",
       "      <td>0.050867</td>\n",
       "      <td>0.054206</td>\n",
       "      <td>0.081200</td>\n",
       "    </tr>\n",
       "    <tr>\n",
       "      <th>brand_encoded</th>\n",
       "      <td>0.051450</td>\n",
       "      <td>-0.038067</td>\n",
       "      <td>0.009120</td>\n",
       "      <td>-0.051450</td>\n",
       "      <td>0.132314</td>\n",
       "      <td>0.088163</td>\n",
       "      <td>0.132199</td>\n",
       "      <td>0.164775</td>\n",
       "      <td>-0.039081</td>\n",
       "      <td>0.055557</td>\n",
       "      <td>-0.104265</td>\n",
       "      <td>0.008889</td>\n",
       "      <td>1.000000</td>\n",
       "      <td>0.374056</td>\n",
       "      <td>0.096318</td>\n",
       "      <td>0.028529</td>\n",
       "    </tr>\n",
       "    <tr>\n",
       "      <th>model_encoded</th>\n",
       "      <td>0.036473</td>\n",
       "      <td>-0.049478</td>\n",
       "      <td>0.006274</td>\n",
       "      <td>-0.036473</td>\n",
       "      <td>0.137305</td>\n",
       "      <td>0.105876</td>\n",
       "      <td>0.117342</td>\n",
       "      <td>0.075184</td>\n",
       "      <td>-0.065553</td>\n",
       "      <td>0.065495</td>\n",
       "      <td>-0.012075</td>\n",
       "      <td>0.050867</td>\n",
       "      <td>0.374056</td>\n",
       "      <td>1.000000</td>\n",
       "      <td>0.037845</td>\n",
       "      <td>0.069885</td>\n",
       "    </tr>\n",
       "    <tr>\n",
       "      <th>ext_col_encoded</th>\n",
       "      <td>-0.059496</td>\n",
       "      <td>0.089070</td>\n",
       "      <td>-0.041946</td>\n",
       "      <td>0.059496</td>\n",
       "      <td>0.045280</td>\n",
       "      <td>0.018757</td>\n",
       "      <td>0.035196</td>\n",
       "      <td>-0.018833</td>\n",
       "      <td>0.044378</td>\n",
       "      <td>0.294150</td>\n",
       "      <td>-0.042375</td>\n",
       "      <td>0.054206</td>\n",
       "      <td>0.096318</td>\n",
       "      <td>0.037845</td>\n",
       "      <td>1.000000</td>\n",
       "      <td>0.106114</td>\n",
       "    </tr>\n",
       "    <tr>\n",
       "      <th>int_col_encoded</th>\n",
       "      <td>0.098277</td>\n",
       "      <td>-0.091385</td>\n",
       "      <td>0.006812</td>\n",
       "      <td>-0.098277</td>\n",
       "      <td>0.072895</td>\n",
       "      <td>-0.019272</td>\n",
       "      <td>-0.016052</td>\n",
       "      <td>0.006392</td>\n",
       "      <td>-0.057981</td>\n",
       "      <td>0.054499</td>\n",
       "      <td>0.017072</td>\n",
       "      <td>0.081200</td>\n",
       "      <td>0.028529</td>\n",
       "      <td>0.069885</td>\n",
       "      <td>0.106114</td>\n",
       "      <td>1.000000</td>\n",
       "    </tr>\n",
       "  </tbody>\n",
       "</table>\n",
       "</div>"
      ],
      "text/plain": [
       "                           model_year    milage     price   car_age  \\\n",
       "model_year                   1.000000 -0.669936  0.231795 -1.000000   \n",
       "milage                      -0.669936  1.000000 -0.283067  0.669936   \n",
       "price                        0.231795 -0.283067  1.000000 -0.231795   \n",
       "car_age                     -1.000000  0.669936 -0.231795  1.000000   \n",
       "horsepower                   0.369001 -0.403952  0.214364 -0.369001   \n",
       "engine_size                  0.000272 -0.032607  0.094445 -0.000272   \n",
       "cylinder_count               0.007556 -0.075180  0.101535 -0.007556   \n",
       "num_speeds                   0.349395 -0.259166  0.102073 -0.349395   \n",
       "accident_encoded            -0.256367  0.321356 -0.125122  0.256367   \n",
       "clean_title_encoded         -0.264893  0.242779 -0.089433  0.264893   \n",
       "fuel_type_encoded            0.000641 -0.095488  0.010780 -0.000641   \n",
       "transmission_type_encoded   -0.103685 -0.012294  0.002460  0.103685   \n",
       "brand_encoded                0.051450 -0.038067  0.009120 -0.051450   \n",
       "model_encoded                0.036473 -0.049478  0.006274 -0.036473   \n",
       "ext_col_encoded             -0.059496  0.089070 -0.041946  0.059496   \n",
       "int_col_encoded              0.098277 -0.091385  0.006812 -0.098277   \n",
       "\n",
       "                           horsepower  engine_size  cylinder_count  \\\n",
       "model_year                   0.369001     0.000272        0.007556   \n",
       "milage                      -0.403952    -0.032607       -0.075180   \n",
       "price                        0.214364     0.094445        0.101535   \n",
       "car_age                     -0.369001    -0.000272       -0.007556   \n",
       "horsepower                   1.000000     0.523567        0.649117   \n",
       "engine_size                  0.523567     1.000000        0.821679   \n",
       "cylinder_count               0.649117     0.821679        1.000000   \n",
       "num_speeds                   0.111610     0.008568        0.032363   \n",
       "accident_encoded            -0.191208    -0.038547       -0.061010   \n",
       "clean_title_encoded         -0.010418     0.016223       -0.002387   \n",
       "fuel_type_encoded           -0.058796    -0.246528       -0.131484   \n",
       "transmission_type_encoded    0.077234    -0.047902       -0.035051   \n",
       "brand_encoded                0.132314     0.088163        0.132199   \n",
       "model_encoded                0.137305     0.105876        0.117342   \n",
       "ext_col_encoded              0.045280     0.018757        0.035196   \n",
       "int_col_encoded              0.072895    -0.019272       -0.016052   \n",
       "\n",
       "                           num_speeds  accident_encoded  clean_title_encoded  \\\n",
       "model_year                   0.349395         -0.256367            -0.264893   \n",
       "milage                      -0.259166          0.321356             0.242779   \n",
       "price                        0.102073         -0.125122            -0.089433   \n",
       "car_age                     -0.349395          0.256367             0.264893   \n",
       "horsepower                   0.111610         -0.191208            -0.010418   \n",
       "engine_size                  0.008568         -0.038547             0.016223   \n",
       "cylinder_count               0.032363         -0.061010            -0.002387   \n",
       "num_speeds                   1.000000         -0.093142            -0.078609   \n",
       "accident_encoded            -0.093142          1.000000             0.143870   \n",
       "clean_title_encoded         -0.078609          0.143870             1.000000   \n",
       "fuel_type_encoded            0.108391         -0.032305            -0.053594   \n",
       "transmission_type_encoded   -0.146535         -0.003852             0.129762   \n",
       "brand_encoded                0.164775         -0.039081             0.055557   \n",
       "model_encoded                0.075184         -0.065553             0.065495   \n",
       "ext_col_encoded             -0.018833          0.044378             0.294150   \n",
       "int_col_encoded              0.006392         -0.057981             0.054499   \n",
       "\n",
       "                           fuel_type_encoded  transmission_type_encoded  \\\n",
       "model_year                          0.000641                  -0.103685   \n",
       "milage                             -0.095488                  -0.012294   \n",
       "price                               0.010780                   0.002460   \n",
       "car_age                            -0.000641                   0.103685   \n",
       "horsepower                         -0.058796                   0.077234   \n",
       "engine_size                        -0.246528                  -0.047902   \n",
       "cylinder_count                     -0.131484                  -0.035051   \n",
       "num_speeds                          0.108391                  -0.146535   \n",
       "accident_encoded                   -0.032305                  -0.003852   \n",
       "clean_title_encoded                -0.053594                   0.129762   \n",
       "fuel_type_encoded                   1.000000                   0.078088   \n",
       "transmission_type_encoded           0.078088                   1.000000   \n",
       "brand_encoded                      -0.104265                   0.008889   \n",
       "model_encoded                      -0.012075                   0.050867   \n",
       "ext_col_encoded                    -0.042375                   0.054206   \n",
       "int_col_encoded                     0.017072                   0.081200   \n",
       "\n",
       "                           brand_encoded  model_encoded  ext_col_encoded  \\\n",
       "model_year                      0.051450       0.036473        -0.059496   \n",
       "milage                         -0.038067      -0.049478         0.089070   \n",
       "price                           0.009120       0.006274        -0.041946   \n",
       "car_age                        -0.051450      -0.036473         0.059496   \n",
       "horsepower                      0.132314       0.137305         0.045280   \n",
       "engine_size                     0.088163       0.105876         0.018757   \n",
       "cylinder_count                  0.132199       0.117342         0.035196   \n",
       "num_speeds                      0.164775       0.075184        -0.018833   \n",
       "accident_encoded               -0.039081      -0.065553         0.044378   \n",
       "clean_title_encoded             0.055557       0.065495         0.294150   \n",
       "fuel_type_encoded              -0.104265      -0.012075        -0.042375   \n",
       "transmission_type_encoded       0.008889       0.050867         0.054206   \n",
       "brand_encoded                   1.000000       0.374056         0.096318   \n",
       "model_encoded                   0.374056       1.000000         0.037845   \n",
       "ext_col_encoded                 0.096318       0.037845         1.000000   \n",
       "int_col_encoded                 0.028529       0.069885         0.106114   \n",
       "\n",
       "                           int_col_encoded  \n",
       "model_year                        0.098277  \n",
       "milage                           -0.091385  \n",
       "price                             0.006812  \n",
       "car_age                          -0.098277  \n",
       "horsepower                        0.072895  \n",
       "engine_size                      -0.019272  \n",
       "cylinder_count                   -0.016052  \n",
       "num_speeds                        0.006392  \n",
       "accident_encoded                 -0.057981  \n",
       "clean_title_encoded               0.054499  \n",
       "fuel_type_encoded                 0.017072  \n",
       "transmission_type_encoded         0.081200  \n",
       "brand_encoded                     0.028529  \n",
       "model_encoded                     0.069885  \n",
       "ext_col_encoded                   0.106114  \n",
       "int_col_encoded                   1.000000  "
      ]
     },
     "execution_count": 52,
     "metadata": {},
     "output_type": "execute_result"
    }
   ],
   "source": [
    "# Create a correlation matrix\n",
    "correlation_matrix = train_data.corr()\n",
    "\n",
    "correlation_matrix"
   ]
  },
  {
   "cell_type": "code",
   "execution_count": 53,
   "id": "c71d3976",
   "metadata": {
    "execution": {
     "iopub.execute_input": "2024-09-21T15:16:53.126606Z",
     "iopub.status.busy": "2024-09-21T15:16:53.125783Z",
     "iopub.status.idle": "2024-09-21T15:16:54.294636Z",
     "shell.execute_reply": "2024-09-21T15:16:54.293400Z"
    },
    "papermill": {
     "duration": 1.204754,
     "end_time": "2024-09-21T15:16:54.300144",
     "exception": false,
     "start_time": "2024-09-21T15:16:53.095390",
     "status": "completed"
    },
    "tags": []
   },
   "outputs": [
    {
     "data": {
      "image/png": "[encoded data removed]",
      "text/plain": [
       "<Figure size 1200x1000 with 2 Axes>"
      ]
     },
     "metadata": {},
     "output_type": "display_data"
    }
   ],
   "source": [
    "# Set the size of the plot\n",
    "plt.figure(figsize=(12, 10))\n",
    "\n",
    "# Generate a heatmap with correlation values\n",
    "sns.heatmap(correlation_matrix, annot=True, cmap='coolwarm', fmt='.2f', linewidths=0.5)\n",
    "plt.title('Correlation Matrix Heatmap', size=16)\n",
    "plt.show()"
   ]
  },
  {
   "cell_type": "markdown",
   "id": "b6e144d1",
   "metadata": {
    "papermill": {
     "duration": 0.033392,
     "end_time": "2024-09-21T15:16:54.367796",
     "exception": false,
     "start_time": "2024-09-21T15:16:54.334404",
     "status": "completed"
    },
    "tags": []
   },
   "source": [
    "# Model Training"
   ]
  },
  {
   "cell_type": "code",
   "execution_count": 54,
   "id": "4dd71198",
   "metadata": {
    "execution": {
     "iopub.execute_input": "2024-09-21T15:16:54.441693Z",
     "iopub.status.busy": "2024-09-21T15:16:54.440703Z",
     "iopub.status.idle": "2024-09-21T15:16:54.458147Z",
     "shell.execute_reply": "2024-09-21T15:16:54.456846Z"
    },
    "papermill": {
     "duration": 0.057292,
     "end_time": "2024-09-21T15:16:54.461371",
     "exception": false,
     "start_time": "2024-09-21T15:16:54.404079",
     "status": "completed"
    },
    "tags": []
   },
   "outputs": [],
   "source": [
    "# Define target variable\n",
    "y = train_data['price']\n",
    "\n",
    "# Define features by dropping the target variable\n",
    "X = train_data.drop('price', axis=1)\n"
   ]
  },
  {
   "cell_type": "code",
   "execution_count": 55,
   "id": "edc80285",
   "metadata": {
    "execution": {
     "iopub.execute_input": "2024-09-21T15:16:54.531168Z",
     "iopub.status.busy": "2024-09-21T15:16:54.530727Z",
     "iopub.status.idle": "2024-09-21T15:16:54.600978Z",
     "shell.execute_reply": "2024-09-21T15:16:54.599636Z"
    },
    "papermill": {
     "duration": 0.10888,
     "end_time": "2024-09-21T15:16:54.604058",
     "exception": false,
     "start_time": "2024-09-21T15:16:54.495178",
     "status": "completed"
    },
    "tags": []
   },
   "outputs": [],
   "source": [
    "# Split into train and validation sets\n",
    "from sklearn.model_selection import train_test_split\n",
    "X_train, X_val, y_train, y_val = train_test_split(X, y, test_size=0.2, random_state=123)"
   ]
  },
  {
   "cell_type": "code",
   "execution_count": 56,
   "id": "274fe574",
   "metadata": {
    "execution": {
     "iopub.execute_input": "2024-09-21T15:16:54.674160Z",
     "iopub.status.busy": "2024-09-21T15:16:54.673662Z",
     "iopub.status.idle": "2024-09-21T15:16:54.748716Z",
     "shell.execute_reply": "2024-09-21T15:16:54.747629Z"
    },
    "papermill": {
     "duration": 0.112555,
     "end_time": "2024-09-21T15:16:54.751647",
     "exception": false,
     "start_time": "2024-09-21T15:16:54.639092",
     "status": "completed"
    },
    "tags": []
   },
   "outputs": [],
   "source": [
    "# Initialize the scaler\n",
    "scaler = MinMaxScaler()\n",
    "\n",
    "# Apply scaling only to the training and validation data for models that need it (like Linear Regression)\n",
    "X_train_scaled = scaler.fit_transform(X_train)\n",
    "X_val_scaled = scaler.transform(X_val)\n",
    "\n",
    "# Apply scaling to the test data\n",
    "X_test_scaled = scaler.transform(test_data)\n"
   ]
  },
  {
   "cell_type": "markdown",
   "id": "ee5d0689",
   "metadata": {
    "papermill": {
     "duration": 0.033867,
     "end_time": "2024-09-21T15:16:54.819465",
     "exception": false,
     "start_time": "2024-09-21T15:16:54.785598",
     "status": "completed"
    },
    "tags": []
   },
   "source": [
    "## Model Selection and Training"
   ]
  },
  {
   "cell_type": "markdown",
   "id": "5bcf3a36",
   "metadata": {
    "papermill": {
     "duration": 0.03263,
     "end_time": "2024-09-21T15:16:54.884544",
     "exception": false,
     "start_time": "2024-09-21T15:16:54.851914",
     "status": "completed"
    },
    "tags": []
   },
   "source": [
    "### Linear Regression"
   ]
  },
  {
   "cell_type": "code",
   "execution_count": 57,
   "id": "368b7001",
   "metadata": {
    "execution": {
     "iopub.execute_input": "2024-09-21T15:16:54.953211Z",
     "iopub.status.busy": "2024-09-21T15:16:54.952752Z",
     "iopub.status.idle": "2024-09-21T15:16:55.116756Z",
     "shell.execute_reply": "2024-09-21T15:16:55.105479Z"
    },
    "papermill": {
     "duration": 0.203728,
     "end_time": "2024-09-21T15:16:55.120411",
     "exception": false,
     "start_time": "2024-09-21T15:16:54.916683",
     "status": "completed"
    },
    "tags": []
   },
   "outputs": [
    {
     "name": "stdout",
     "output_type": "stream",
     "text": [
      "Linear Regression RMSE: 74057.20\n"
     ]
    }
   ],
   "source": [
    "# Initialize the model\n",
    "lr = LinearRegression()\n",
    "lr.fit(X_train_scaled, y_train)  # Use scaled data\n",
    "y_pred_lr = lr.predict(X_val_scaled)\n",
    "# Evaluate the model\n",
    "rmse_lr = mean_squared_error(y_val, y_pred_lr, squared=False)\n",
    "print(f'Linear Regression RMSE: {rmse_lr:.2f}')"
   ]
  },
  {
   "cell_type": "markdown",
   "id": "1a7b0d9b",
   "metadata": {
    "papermill": {
     "duration": 0.039105,
     "end_time": "2024-09-21T15:16:55.253045",
     "exception": false,
     "start_time": "2024-09-21T15:16:55.213940",
     "status": "completed"
    },
    "tags": []
   },
   "source": [
    "### Random Forest Regressor"
   ]
  },
  {
   "cell_type": "code",
   "execution_count": 58,
   "id": "358a4041",
   "metadata": {
    "execution": {
     "iopub.execute_input": "2024-09-21T15:16:55.322796Z",
     "iopub.status.busy": "2024-09-21T15:16:55.322329Z",
     "iopub.status.idle": "2024-09-21T15:19:04.034681Z",
     "shell.execute_reply": "2024-09-21T15:19:04.032820Z"
    },
    "papermill": {
     "duration": 128.792248,
     "end_time": "2024-09-21T15:19:04.079174",
     "exception": false,
     "start_time": "2024-09-21T15:16:55.286926",
     "status": "completed"
    },
    "tags": []
   },
   "outputs": [
    {
     "name": "stdout",
     "output_type": "stream",
     "text": [
      "Random Forest RMSE: 77652.59\n"
     ]
    }
   ],
   "source": [
    "# Initialize the model\n",
    "rf = RandomForestRegressor(n_estimators=100, random_state=123)\n",
    "rf.fit(X_train, y_train)  # No need for scaling\n",
    "y_pred_rf = rf.predict(X_val)\n",
    "# Evaluate the model\n",
    "rmse_rf = mean_squared_error(y_val, y_pred_rf, squared=False)\n",
    "print(f'Random Forest RMSE: {rmse_rf:.2f}')"
   ]
  },
  {
   "cell_type": "markdown",
   "id": "8567e67a",
   "metadata": {
    "papermill": {
     "duration": 0.040418,
     "end_time": "2024-09-21T15:19:04.161696",
     "exception": false,
     "start_time": "2024-09-21T15:19:04.121278",
     "status": "completed"
    },
    "tags": []
   },
   "source": [
    "### XGBoost Regressor"
   ]
  },
  {
   "cell_type": "code",
   "execution_count": 59,
   "id": "cfbfbe81",
   "metadata": {
    "execution": {
     "iopub.execute_input": "2024-09-21T15:19:04.246746Z",
     "iopub.status.busy": "2024-09-21T15:19:04.246111Z",
     "iopub.status.idle": "2024-09-21T15:19:05.655154Z",
     "shell.execute_reply": "2024-09-21T15:19:05.653702Z"
    },
    "papermill": {
     "duration": 1.456595,
     "end_time": "2024-09-21T15:19:05.659034",
     "exception": false,
     "start_time": "2024-09-21T15:19:04.202439",
     "status": "completed"
    },
    "tags": []
   },
   "outputs": [
    {
     "name": "stdout",
     "output_type": "stream",
     "text": [
      "XGBoost RMSE: 73066.69\n"
     ]
    }
   ],
   "source": [
    "# Initialize the model\n",
    "xgb_model = xgb.XGBRegressor(n_estimators=100, learning_rate=0.1, random_state=123)\n",
    "xgb_model.fit(X_train, y_train)  # No need for scaling\n",
    "y_pred_xgb = xgb_model.predict(X_val)\n",
    "# Evaluate the model\n",
    "rmse_xgb = mean_squared_error(y_val, y_pred_xgb, squared=False)\n",
    "print(f'XGBoost RMSE: {rmse_xgb:.2f}')"
   ]
  },
  {
   "cell_type": "markdown",
   "id": "a70c6de0",
   "metadata": {
    "papermill": {
     "duration": 0.04132,
     "end_time": "2024-09-21T15:19:05.744185",
     "exception": false,
     "start_time": "2024-09-21T15:19:05.702865",
     "status": "completed"
    },
    "tags": []
   },
   "source": [
    "### LGBMRegressor"
   ]
  },
  {
   "cell_type": "code",
   "execution_count": 60,
   "id": "98d0ef1d",
   "metadata": {
    "execution": {
     "iopub.execute_input": "2024-09-21T15:19:05.831929Z",
     "iopub.status.busy": "2024-09-21T15:19:05.830610Z",
     "iopub.status.idle": "2024-09-21T15:19:08.489848Z",
     "shell.execute_reply": "2024-09-21T15:19:08.488068Z"
    },
    "papermill": {
     "duration": 2.707544,
     "end_time": "2024-09-21T15:19:08.493551",
     "exception": false,
     "start_time": "2024-09-21T15:19:05.786007",
     "status": "completed"
    },
    "tags": []
   },
   "outputs": [
    {
     "name": "stdout",
     "output_type": "stream",
     "text": [
      "[LightGBM] [Info] Auto-choosing col-wise multi-threading, the overhead of testing was 0.063085 seconds.\n",
      "You can set `force_col_wise=true` to remove the overhead.\n",
      "[LightGBM] [Info] Total Bins 1157\n",
      "[LightGBM] [Info] Number of data points in the train set: 150826, number of used features: 15\n",
      "[LightGBM] [Info] Start training from score 43972.269264\n",
      "LGBM RMSE: 72181.72\n"
     ]
    }
   ],
   "source": [
    "# Initialize the model\n",
    "lgb_model = lgb.LGBMRegressor(n_estimators=100, learning_rate=0.1, random_state=123)\n",
    "lgb_model.fit(X_train, y_train)  # No need for scaling\n",
    "y_pred_lgb = lgb_model.predict(X_val)\n",
    "# Evaluate the model\n",
    "rmse_lgb = mean_squared_error(y_val, y_pred_lgb, squared=False)\n",
    "print(f'LGBM RMSE: {rmse_lgb:.2f}')"
   ]
  },
  {
   "cell_type": "markdown",
   "id": "030ca871",
   "metadata": {
    "papermill": {
     "duration": 0.04029,
     "end_time": "2024-09-21T15:19:08.575138",
     "exception": false,
     "start_time": "2024-09-21T15:19:08.534848",
     "status": "completed"
    },
    "tags": []
   },
   "source": [
    "### CatBoostRegressor"
   ]
  },
  {
   "cell_type": "code",
   "execution_count": 61,
   "id": "b80c38f2",
   "metadata": {
    "execution": {
     "iopub.execute_input": "2024-09-21T15:19:08.662289Z",
     "iopub.status.busy": "2024-09-21T15:19:08.661643Z",
     "iopub.status.idle": "2024-09-21T15:19:11.157805Z",
     "shell.execute_reply": "2024-09-21T15:19:11.155798Z"
    },
    "papermill": {
     "duration": 2.54388,
     "end_time": "2024-09-21T15:19:11.162029",
     "exception": false,
     "start_time": "2024-09-21T15:19:08.618149",
     "status": "completed"
    },
    "tags": []
   },
   "outputs": [
    {
     "name": "stdout",
     "output_type": "stream",
     "text": [
      "CatBoost RMSE: 72098.31\n"
     ]
    }
   ],
   "source": [
    "# Initialize the model\n",
    "cat_model = CatBoostRegressor(iterations=100, learning_rate=0.1, depth=6, random_state=123, verbose=False)\n",
    "cat_model.fit(X_train, y_train)  # No need for scaling\n",
    "y_pred_cat = cat_model.predict(X_val)\n",
    "# Evaluate the model\n",
    "rmse_cat = mean_squared_error(y_val, y_pred_cat, squared=False)\n",
    "print(f'CatBoost RMSE: {rmse_cat:.2f}')"
   ]
  },
  {
   "cell_type": "markdown",
   "id": "1fc21360",
   "metadata": {
    "papermill": {
     "duration": 0.042282,
     "end_time": "2024-09-21T15:19:11.245816",
     "exception": false,
     "start_time": "2024-09-21T15:19:11.203534",
     "status": "completed"
    },
    "tags": []
   },
   "source": [
    "### Compare Model Performance"
   ]
  },
  {
   "cell_type": "code",
   "execution_count": 62,
   "id": "246764af",
   "metadata": {
    "execution": {
     "iopub.execute_input": "2024-09-21T15:19:11.330955Z",
     "iopub.status.busy": "2024-09-21T15:19:11.330322Z",
     "iopub.status.idle": "2024-09-21T15:19:11.343547Z",
     "shell.execute_reply": "2024-09-21T15:19:11.341753Z"
    },
    "papermill": {
     "duration": 0.060555,
     "end_time": "2024-09-21T15:19:11.347163",
     "exception": false,
     "start_time": "2024-09-21T15:19:11.286608",
     "status": "completed"
    },
    "tags": []
   },
   "outputs": [
    {
     "name": "stdout",
     "output_type": "stream",
     "text": [
      "Linear Regression RMSE: 74057.20\n",
      "Random Forest RMSE: 77652.59\n",
      "XGBoost RMSE: 73066.69\n",
      "LGBM RMSE: 72181.72\n",
      "CatBoost RMSE: 72098.31\n"
     ]
    }
   ],
   "source": [
    "print(f'Linear Regression RMSE: {rmse_lr:.2f}')\n",
    "print(f'Random Forest RMSE: {rmse_rf:.2f}')\n",
    "print(f'XGBoost RMSE: {rmse_xgb:.2f}')\n",
    "print(f'LGBM RMSE: {rmse_lgb:.2f}')\n",
    "print(f'CatBoost RMSE: {rmse_cat:.2f}')"
   ]
  },
  {
   "cell_type": "markdown",
   "id": "09854e0d",
   "metadata": {
    "papermill": {
     "duration": 0.041719,
     "end_time": "2024-09-21T15:19:11.431329",
     "exception": false,
     "start_time": "2024-09-21T15:19:11.389610",
     "status": "completed"
    },
    "tags": []
   },
   "source": [
    "# Build Model with CatBoost"
   ]
  },
  {
   "cell_type": "code",
   "execution_count": 63,
   "id": "896aa5c2",
   "metadata": {
    "execution": {
     "iopub.execute_input": "2024-09-21T15:19:11.515312Z",
     "iopub.status.busy": "2024-09-21T15:19:11.514150Z",
     "iopub.status.idle": "2024-09-21T15:19:14.270696Z",
     "shell.execute_reply": "2024-09-21T15:19:14.268672Z"
    },
    "papermill": {
     "duration": 2.802308,
     "end_time": "2024-09-21T15:19:14.274300",
     "exception": false,
     "start_time": "2024-09-21T15:19:11.471992",
     "status": "completed"
    },
    "tags": []
   },
   "outputs": [
    {
     "name": "stdout",
     "output_type": "stream",
     "text": [
      "       id         price\n",
      "0  188533  17285.214046\n",
      "1  188534  77144.832188\n",
      "2  188535  56005.063604\n",
      "3  188536  30769.768503\n",
      "4  188537  30154.376682\n"
     ]
    }
   ],
   "source": [
    "# Train the best model on the full training dataset \n",
    "best_model = cat_model \n",
    "best_model.fit(X, y)\n",
    "\n",
    "# Make predictions on the test set\n",
    "test_predictions = best_model.predict(test_data)\n",
    "\n",
    "submission = pd.DataFrame({\n",
    "    'id': df_sample_submission['id'],\n",
    "    'price': test_predictions\n",
    "})\n",
    "\n",
    "# Print the head of the submission file\n",
    "print(submission.head())"
   ]
  },
  {
   "cell_type": "code",
   "execution_count": 64,
   "id": "ec7cc46e",
   "metadata": {
    "execution": {
     "iopub.execute_input": "2024-09-21T15:19:14.362445Z",
     "iopub.status.busy": "2024-09-21T15:19:14.361875Z",
     "iopub.status.idle": "2024-09-21T15:19:14.878163Z",
     "shell.execute_reply": "2024-09-21T15:19:14.876265Z"
    },
    "papermill": {
     "duration": 0.565551,
     "end_time": "2024-09-21T15:19:14.881706",
     "exception": false,
     "start_time": "2024-09-21T15:19:14.316155",
     "status": "completed"
    },
    "tags": []
   },
   "outputs": [
    {
     "name": "stdout",
     "output_type": "stream",
     "text": [
      "Submission file created successfully.\n"
     ]
    }
   ],
   "source": [
    "submission.to_csv('submission.csv', index=False)\n",
    "\n",
    "print(\"Submission file created successfully.\")"
   ]
  }
 ],
 "metadata": {
  "kaggle": {
   "accelerator": "none",
   "dataSources": [
    {
     "databundleVersionId": 9057646,
     "sourceId": 76728,
     "sourceType": "competition"
    }
   ],
   "dockerImageVersionId": 30761,
   "isGpuEnabled": false,
   "isInternetEnabled": true,
   "language": "python",
   "sourceType": "notebook"
  },
  "kernelspec": {
   "display_name": "Python 3",
   "language": "python",
   "name": "python3"
  },
  "language_info": {
   "codemirror_mode": {
    "name": "ipython",
    "version": 3
   },
   "file_extension": ".py",
   "mimetype": "text/x-python",
   "name": "python",
   "nbconvert_exporter": "python",
   "pygments_lexer": "ipython3",
   "version": "3.10.14"
  },
  "papermill": {
   "default_parameters": {},
   "duration": 163.951614,
   "end_time": "2024-09-21T15:19:16.155537",
   "environment_variables": {},
   "exception": null,
   "input_path": "__notebook__.ipynb",
   "output_path": "__notebook__.ipynb",
   "parameters": {},
   "start_time": "2024-09-21T15:16:32.203923",
   "version": "2.6.0"
  }
 },
 "nbformat": 4,
 "nbformat_minor": 5
}
